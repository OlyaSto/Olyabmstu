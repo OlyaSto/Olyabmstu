{
  "nbformat": 4,
  "nbformat_minor": 0,
  "metadata": {
    "colab": {
      "name": "LR6.ipynb",
      "provenance": [],
      "collapsed_sections": [],
      "authorship_tag": "ABX9TyNTwLvemDch5MJyWxs2jJ0h",
      "include_colab_link": true
    },
    "kernelspec": {
      "name": "python3",
      "display_name": "Python 3"
    },
    "language_info": {
      "name": "python"
    }
  },
  "cells": [
    {
      "cell_type": "markdown",
      "metadata": {
        "id": "view-in-github",
        "colab_type": "text"
      },
      "source": [
        "<a href=\"https://colab.research.google.com/github/OlyaSto/Olyabmstu/blob/master/%D0%A2%D0%9C%D0%9E/%D0%9B%D0%A06/LR6.ipynb\" target=\"_parent\"><img src=\"https://colab.research.google.com/assets/colab-badge.svg\" alt=\"Open In Colab\"/></a>"
      ]
    },
    {
      "cell_type": "markdown",
      "source": [
        "## Лабораторная работа №6"
      ],
      "metadata": {
        "id": "tg1K-PTaBqKE"
      }
    },
    {
      "cell_type": "markdown",
      "source": [
        "Цель лабораторной работы: изучение основных методов анализа и прогнозирование временных рядов."
      ],
      "metadata": {
        "id": "7ohNut0lBwa-"
      }
    },
    {
      "cell_type": "markdown",
      "source": [
        "Задание:\n",
        "1. Выберите набор данных (датасет) для решения задачи прогнозирования временного ряда.\n",
        "2. Визуализируйте временной ряд и его основные характеристики.\n",
        "3. Разделите временной ряд на обучающую и тестовую выборку.\n",
        "4. Произведите прогнозирование временного ряда с использованием как минимум двух методов.\n",
        "5. Визуализируйте тестовую выборку и каждый из прогнозов.\n",
        "6. Оцените качество прогноза в каждом случае с помощью метрик."
      ],
      "metadata": {
        "id": "xzeU5dd-ByY-"
      }
    },
    {
      "cell_type": "markdown",
      "source": [
        "## Импорт библиотек"
      ],
      "metadata": {
        "id": "5WImLxR4CV9H"
      }
    },
    {
      "cell_type": "code",
      "source": [
        "import numpy as np\n",
        "import pandas as pd\n",
        "from matplotlib import pyplot\n",
        "import matplotlib.pyplot as plt\n",
        "from statsmodels.tsa.seasonal import seasonal_decompose\n",
        "from sklearn.metrics import mean_absolute_error, mean_squared_error, r2_score \n",
        "from statsmodels.tsa.arima_model import ARIMA\n",
        "from sklearn.model_selection import GridSearchCV\n",
        "from statsmodels.graphics.tsaplots import plot_acf, plot_pacf"
      ],
      "metadata": {
        "id": "y3V08CaqRsRV"
      },
      "execution_count": 116,
      "outputs": []
    },
    {
      "cell_type": "markdown",
      "source": [
        "## Загрузка данных"
      ],
      "metadata": {
        "id": "F9biWJu0B7lJ"
      }
    },
    {
      "cell_type": "markdown",
      "source": [
        "Монтирование Google Drive для получения доступа к данным, лежащим на нем:"
      ],
      "metadata": {
        "id": "_UKjmqyFB92w"
      }
    },
    {
      "cell_type": "code",
      "source": [
        "from google.colab import drive\n",
        "drive.mount('/content/drive')"
      ],
      "metadata": {
        "colab": {
          "base_uri": "https://localhost:8080/"
        },
        "id": "Xp9gXHlaCAiz",
        "outputId": "5f35ead0-f024-4ece-f282-6e1e60175305"
      },
      "execution_count": 130,
      "outputs": [
        {
          "output_type": "stream",
          "name": "stdout",
          "text": [
            "Drive already mounted at /content/drive; to attempt to forcibly remount, call drive.mount(\"/content/drive\", force_remount=True).\n"
          ]
        }
      ]
    },
    {
      "cell_type": "markdown",
      "source": [
        "Загрузка данных:"
      ],
      "metadata": {
        "id": "5e5cHdikCLJ2"
      }
    },
    {
      "cell_type": "code",
      "source": [
        "filename = '/content/drive/MyDrive/POP.csv'"
      ],
      "metadata": {
        "id": "p9F1y_vTCNMu"
      },
      "execution_count": 131,
      "outputs": []
    },
    {
      "cell_type": "code",
      "source": [
        "data = pd.read_csv(filename, sep=',')"
      ],
      "metadata": {
        "id": "IlBKckO1CRDZ"
      },
      "execution_count": 132,
      "outputs": []
    },
    {
      "cell_type": "code",
      "source": [
        "data = data.drop(['realtime_start','realtime_end'],axis=1)\n",
        "\"\"\"Преобразование столбца даты в объект datetime и установка его в качестве индекса\"\"\"\n",
        "data['date'] = pd.to_datetime(data['date'])\n",
        "data.set_index('date',inplace=True)\n",
        "data.head()"
      ],
      "metadata": {
        "colab": {
          "base_uri": "https://localhost:8080/",
          "height": 237
        },
        "id": "NAe3XVzGRHFs",
        "outputId": "10712fc9-287d-4895-b1b3-57cbfba224bd"
      },
      "execution_count": 133,
      "outputs": [
        {
          "output_type": "execute_result",
          "data": {
            "text/plain": [
              "               value\n",
              "date                \n",
              "1952-01-01  156309.0\n",
              "1952-02-01  156527.0\n",
              "1952-03-01  156731.0\n",
              "1952-04-01  156943.0\n",
              "1952-05-01  157140.0"
            ],
            "text/html": [
              "\n",
              "  <div id=\"df-848b782e-294c-4fc3-a4d9-04c7530fd004\">\n",
              "    <div class=\"colab-df-container\">\n",
              "      <div>\n",
              "<style scoped>\n",
              "    .dataframe tbody tr th:only-of-type {\n",
              "        vertical-align: middle;\n",
              "    }\n",
              "\n",
              "    .dataframe tbody tr th {\n",
              "        vertical-align: top;\n",
              "    }\n",
              "\n",
              "    .dataframe thead th {\n",
              "        text-align: right;\n",
              "    }\n",
              "</style>\n",
              "<table border=\"1\" class=\"dataframe\">\n",
              "  <thead>\n",
              "    <tr style=\"text-align: right;\">\n",
              "      <th></th>\n",
              "      <th>value</th>\n",
              "    </tr>\n",
              "    <tr>\n",
              "      <th>date</th>\n",
              "      <th></th>\n",
              "    </tr>\n",
              "  </thead>\n",
              "  <tbody>\n",
              "    <tr>\n",
              "      <th>1952-01-01</th>\n",
              "      <td>156309.0</td>\n",
              "    </tr>\n",
              "    <tr>\n",
              "      <th>1952-02-01</th>\n",
              "      <td>156527.0</td>\n",
              "    </tr>\n",
              "    <tr>\n",
              "      <th>1952-03-01</th>\n",
              "      <td>156731.0</td>\n",
              "    </tr>\n",
              "    <tr>\n",
              "      <th>1952-04-01</th>\n",
              "      <td>156943.0</td>\n",
              "    </tr>\n",
              "    <tr>\n",
              "      <th>1952-05-01</th>\n",
              "      <td>157140.0</td>\n",
              "    </tr>\n",
              "  </tbody>\n",
              "</table>\n",
              "</div>\n",
              "      <button class=\"colab-df-convert\" onclick=\"convertToInteractive('df-848b782e-294c-4fc3-a4d9-04c7530fd004')\"\n",
              "              title=\"Convert this dataframe to an interactive table.\"\n",
              "              style=\"display:none;\">\n",
              "        \n",
              "  <svg xmlns=\"http://www.w3.org/2000/svg\" height=\"24px\"viewBox=\"0 0 24 24\"\n",
              "       width=\"24px\">\n",
              "    <path d=\"M0 0h24v24H0V0z\" fill=\"none\"/>\n",
              "    <path d=\"M18.56 5.44l.94 2.06.94-2.06 2.06-.94-2.06-.94-.94-2.06-.94 2.06-2.06.94zm-11 1L8.5 8.5l.94-2.06 2.06-.94-2.06-.94L8.5 2.5l-.94 2.06-2.06.94zm10 10l.94 2.06.94-2.06 2.06-.94-2.06-.94-.94-2.06-.94 2.06-2.06.94z\"/><path d=\"M17.41 7.96l-1.37-1.37c-.4-.4-.92-.59-1.43-.59-.52 0-1.04.2-1.43.59L10.3 9.45l-7.72 7.72c-.78.78-.78 2.05 0 2.83L4 21.41c.39.39.9.59 1.41.59.51 0 1.02-.2 1.41-.59l7.78-7.78 2.81-2.81c.8-.78.8-2.07 0-2.86zM5.41 20L4 18.59l7.72-7.72 1.47 1.35L5.41 20z\"/>\n",
              "  </svg>\n",
              "      </button>\n",
              "      \n",
              "  <style>\n",
              "    .colab-df-container {\n",
              "      display:flex;\n",
              "      flex-wrap:wrap;\n",
              "      gap: 12px;\n",
              "    }\n",
              "\n",
              "    .colab-df-convert {\n",
              "      background-color: #E8F0FE;\n",
              "      border: none;\n",
              "      border-radius: 50%;\n",
              "      cursor: pointer;\n",
              "      display: none;\n",
              "      fill: #1967D2;\n",
              "      height: 32px;\n",
              "      padding: 0 0 0 0;\n",
              "      width: 32px;\n",
              "    }\n",
              "\n",
              "    .colab-df-convert:hover {\n",
              "      background-color: #E2EBFA;\n",
              "      box-shadow: 0px 1px 2px rgba(60, 64, 67, 0.3), 0px 1px 3px 1px rgba(60, 64, 67, 0.15);\n",
              "      fill: #174EA6;\n",
              "    }\n",
              "\n",
              "    [theme=dark] .colab-df-convert {\n",
              "      background-color: #3B4455;\n",
              "      fill: #D2E3FC;\n",
              "    }\n",
              "\n",
              "    [theme=dark] .colab-df-convert:hover {\n",
              "      background-color: #434B5C;\n",
              "      box-shadow: 0px 1px 3px 1px rgba(0, 0, 0, 0.15);\n",
              "      filter: drop-shadow(0px 1px 2px rgba(0, 0, 0, 0.3));\n",
              "      fill: #FFFFFF;\n",
              "    }\n",
              "  </style>\n",
              "\n",
              "      <script>\n",
              "        const buttonEl =\n",
              "          document.querySelector('#df-848b782e-294c-4fc3-a4d9-04c7530fd004 button.colab-df-convert');\n",
              "        buttonEl.style.display =\n",
              "          google.colab.kernel.accessAllowed ? 'block' : 'none';\n",
              "\n",
              "        async function convertToInteractive(key) {\n",
              "          const element = document.querySelector('#df-848b782e-294c-4fc3-a4d9-04c7530fd004');\n",
              "          const dataTable =\n",
              "            await google.colab.kernel.invokeFunction('convertToInteractive',\n",
              "                                                     [key], {});\n",
              "          if (!dataTable) return;\n",
              "\n",
              "          const docLinkHtml = 'Like what you see? Visit the ' +\n",
              "            '<a target=\"_blank\" href=https://colab.research.google.com/notebooks/data_table.ipynb>data table notebook</a>'\n",
              "            + ' to learn more about interactive tables.';\n",
              "          element.innerHTML = '';\n",
              "          dataTable['output_type'] = 'display_data';\n",
              "          await google.colab.output.renderOutput(dataTable, element);\n",
              "          const docLink = document.createElement('div');\n",
              "          docLink.innerHTML = docLinkHtml;\n",
              "          element.appendChild(docLink);\n",
              "        }\n",
              "      </script>\n",
              "    </div>\n",
              "  </div>\n",
              "  "
            ]
          },
          "metadata": {},
          "execution_count": 133
        }
      ]
    },
    {
      "cell_type": "code",
      "source": [
        "\n",
        "data.describe()"
      ],
      "metadata": {
        "colab": {
          "base_uri": "https://localhost:8080/",
          "height": 300
        },
        "id": "1p30rSgIRVND",
        "outputId": "81bef198-5d19-440d-f285-51f412ff02b1"
      },
      "execution_count": 134,
      "outputs": [
        {
          "output_type": "execute_result",
          "data": {
            "text/plain": [
              "               value\n",
              "count     816.000000\n",
              "mean   243847.767826\n",
              "std     50519.140567\n",
              "min    156309.000000\n",
              "25%    201725.250000\n",
              "50%    239557.500000\n",
              "75%    289364.250000\n",
              "max    330309.946000"
            ],
            "text/html": [
              "\n",
              "  <div id=\"df-131a4ed3-b925-448d-ac9d-46fdc94cb480\">\n",
              "    <div class=\"colab-df-container\">\n",
              "      <div>\n",
              "<style scoped>\n",
              "    .dataframe tbody tr th:only-of-type {\n",
              "        vertical-align: middle;\n",
              "    }\n",
              "\n",
              "    .dataframe tbody tr th {\n",
              "        vertical-align: top;\n",
              "    }\n",
              "\n",
              "    .dataframe thead th {\n",
              "        text-align: right;\n",
              "    }\n",
              "</style>\n",
              "<table border=\"1\" class=\"dataframe\">\n",
              "  <thead>\n",
              "    <tr style=\"text-align: right;\">\n",
              "      <th></th>\n",
              "      <th>value</th>\n",
              "    </tr>\n",
              "  </thead>\n",
              "  <tbody>\n",
              "    <tr>\n",
              "      <th>count</th>\n",
              "      <td>816.000000</td>\n",
              "    </tr>\n",
              "    <tr>\n",
              "      <th>mean</th>\n",
              "      <td>243847.767826</td>\n",
              "    </tr>\n",
              "    <tr>\n",
              "      <th>std</th>\n",
              "      <td>50519.140567</td>\n",
              "    </tr>\n",
              "    <tr>\n",
              "      <th>min</th>\n",
              "      <td>156309.000000</td>\n",
              "    </tr>\n",
              "    <tr>\n",
              "      <th>25%</th>\n",
              "      <td>201725.250000</td>\n",
              "    </tr>\n",
              "    <tr>\n",
              "      <th>50%</th>\n",
              "      <td>239557.500000</td>\n",
              "    </tr>\n",
              "    <tr>\n",
              "      <th>75%</th>\n",
              "      <td>289364.250000</td>\n",
              "    </tr>\n",
              "    <tr>\n",
              "      <th>max</th>\n",
              "      <td>330309.946000</td>\n",
              "    </tr>\n",
              "  </tbody>\n",
              "</table>\n",
              "</div>\n",
              "      <button class=\"colab-df-convert\" onclick=\"convertToInteractive('df-131a4ed3-b925-448d-ac9d-46fdc94cb480')\"\n",
              "              title=\"Convert this dataframe to an interactive table.\"\n",
              "              style=\"display:none;\">\n",
              "        \n",
              "  <svg xmlns=\"http://www.w3.org/2000/svg\" height=\"24px\"viewBox=\"0 0 24 24\"\n",
              "       width=\"24px\">\n",
              "    <path d=\"M0 0h24v24H0V0z\" fill=\"none\"/>\n",
              "    <path d=\"M18.56 5.44l.94 2.06.94-2.06 2.06-.94-2.06-.94-.94-2.06-.94 2.06-2.06.94zm-11 1L8.5 8.5l.94-2.06 2.06-.94-2.06-.94L8.5 2.5l-.94 2.06-2.06.94zm10 10l.94 2.06.94-2.06 2.06-.94-2.06-.94-.94-2.06-.94 2.06-2.06.94z\"/><path d=\"M17.41 7.96l-1.37-1.37c-.4-.4-.92-.59-1.43-.59-.52 0-1.04.2-1.43.59L10.3 9.45l-7.72 7.72c-.78.78-.78 2.05 0 2.83L4 21.41c.39.39.9.59 1.41.59.51 0 1.02-.2 1.41-.59l7.78-7.78 2.81-2.81c.8-.78.8-2.07 0-2.86zM5.41 20L4 18.59l7.72-7.72 1.47 1.35L5.41 20z\"/>\n",
              "  </svg>\n",
              "      </button>\n",
              "      \n",
              "  <style>\n",
              "    .colab-df-container {\n",
              "      display:flex;\n",
              "      flex-wrap:wrap;\n",
              "      gap: 12px;\n",
              "    }\n",
              "\n",
              "    .colab-df-convert {\n",
              "      background-color: #E8F0FE;\n",
              "      border: none;\n",
              "      border-radius: 50%;\n",
              "      cursor: pointer;\n",
              "      display: none;\n",
              "      fill: #1967D2;\n",
              "      height: 32px;\n",
              "      padding: 0 0 0 0;\n",
              "      width: 32px;\n",
              "    }\n",
              "\n",
              "    .colab-df-convert:hover {\n",
              "      background-color: #E2EBFA;\n",
              "      box-shadow: 0px 1px 2px rgba(60, 64, 67, 0.3), 0px 1px 3px 1px rgba(60, 64, 67, 0.15);\n",
              "      fill: #174EA6;\n",
              "    }\n",
              "\n",
              "    [theme=dark] .colab-df-convert {\n",
              "      background-color: #3B4455;\n",
              "      fill: #D2E3FC;\n",
              "    }\n",
              "\n",
              "    [theme=dark] .colab-df-convert:hover {\n",
              "      background-color: #434B5C;\n",
              "      box-shadow: 0px 1px 3px 1px rgba(0, 0, 0, 0.15);\n",
              "      filter: drop-shadow(0px 1px 2px rgba(0, 0, 0, 0.3));\n",
              "      fill: #FFFFFF;\n",
              "    }\n",
              "  </style>\n",
              "\n",
              "      <script>\n",
              "        const buttonEl =\n",
              "          document.querySelector('#df-131a4ed3-b925-448d-ac9d-46fdc94cb480 button.colab-df-convert');\n",
              "        buttonEl.style.display =\n",
              "          google.colab.kernel.accessAllowed ? 'block' : 'none';\n",
              "\n",
              "        async function convertToInteractive(key) {\n",
              "          const element = document.querySelector('#df-131a4ed3-b925-448d-ac9d-46fdc94cb480');\n",
              "          const dataTable =\n",
              "            await google.colab.kernel.invokeFunction('convertToInteractive',\n",
              "                                                     [key], {});\n",
              "          if (!dataTable) return;\n",
              "\n",
              "          const docLinkHtml = 'Like what you see? Visit the ' +\n",
              "            '<a target=\"_blank\" href=https://colab.research.google.com/notebooks/data_table.ipynb>data table notebook</a>'\n",
              "            + ' to learn more about interactive tables.';\n",
              "          element.innerHTML = '';\n",
              "          dataTable['output_type'] = 'display_data';\n",
              "          await google.colab.output.renderOutput(dataTable, element);\n",
              "          const docLink = document.createElement('div');\n",
              "          docLink.innerHTML = docLinkHtml;\n",
              "          element.appendChild(docLink);\n",
              "        }\n",
              "      </script>\n",
              "    </div>\n",
              "  </div>\n",
              "  "
            ]
          },
          "metadata": {},
          "execution_count": 134
        }
      ]
    },
    {
      "cell_type": "markdown",
      "source": [
        "В качестве датасета будем использовать набор данных, содержащий данные для прогнозирования цен на акции компании Netflix.\n",
        "https://www.kaggle.com/datasets/ranugadisansagamage/netflix-stocks"
      ],
      "metadata": {
        "id": "1QAo-vz9Cdte"
      }
    },
    {
      "cell_type": "markdown",
      "source": [
        "Датасет содержит следующие атрибуты:\n",
        "1. Date - The day - Дата\n",
        "2. Open - The open Price of the Stock - цена в день открытия акции\n",
        "3. High - The highest price of the stock - самая высокая цена акции\n",
        "4. Low - The lowest price of the stock - самая низкая цена акции\n",
        "5. Close - The closing price of the stock - цена акции в день закрытия\n",
        "6. Adj Close - amends a stock's closing price to reflect that stock's value after accounting for any corporate actions - изменяет цену закрытия акции, чтобы отразить стоимость этой акции после учета любых корпоративных действий\n",
        "7. Value - объем продаж"
      ],
      "metadata": {
        "id": "L0-tt2T4Cr2w"
      }
    },
    {
      "cell_type": "markdown",
      "source": [
        "## Визуализация временного ряда"
      ],
      "metadata": {
        "id": "qFkXtMvtIfZ6"
      }
    },
    {
      "cell_type": "code",
      "source": [
        "fig, ax = pyplot.subplots(1, 1, sharex='col', sharey='row', figsize=(10,5))\n",
        "fig.suptitle('Временной ряд в виде графика')\n",
        "data.plot(ax=ax, legend=False)\n",
        "pyplot.show()"
      ],
      "metadata": {
        "colab": {
          "base_uri": "https://localhost:8080/",
          "height": 369
        },
        "id": "2cBRx1GpGcOu",
        "outputId": "e4f361c9-6404-40b1-b52b-ceaf1a13d339"
      },
      "execution_count": 135,
      "outputs": [
        {
          "output_type": "display_data",
          "data": {
            "text/plain": [
              "<Figure size 720x360 with 1 Axes>"
            ],
            "image/png": "[encoded data removed]"
          },
          "metadata": {
            "needs_background": "light"
          }
        }
      ]
    },
    {
      "cell_type": "code",
      "source": [
        "fig, ax = pyplot.subplots(1, 1, sharex='col', sharey='row', figsize=(10,5))\n",
        "fig.suptitle('Автокорреляционная диаграмма')\n",
        "pd.plotting.autocorrelation_plot(data, ax=ax)\n",
        "pyplot.show()"
      ],
      "metadata": {
        "colab": {
          "base_uri": "https://localhost:8080/",
          "height": 369
        },
        "id": "90F65zGXI0bs",
        "outputId": "1f28db27-05d4-43cd-c7ab-64175614709e"
      },
      "execution_count": 136,
      "outputs": [
        {
          "output_type": "display_data",
          "data": {
            "text/plain": [
              "<Figure size 720x360 with 1 Axes>"
            ],
            "image/png": "[encoded data removed]"
          },
          "metadata": {
            "needs_background": "light"
          }
        }
      ]
    },
    {
      "cell_type": "markdown",
      "source": [
        "### Частичная автокорреляционная функция"
      ],
      "metadata": {
        "id": "Vth01gY4I6KM"
      }
    },
    {
      "cell_type": "code",
      "source": [
        "plot_pacf(data, lags=30)\n",
        "plt.tight_layout()"
      ],
      "metadata": {
        "colab": {
          "base_uri": "https://localhost:8080/",
          "height": 297
        },
        "id": "Mn1VLhgkI9Ed",
        "outputId": "d5cb8ab7-453d-451a-ba68-9b1d9874dbb7"
      },
      "execution_count": 137,
      "outputs": [
        {
          "output_type": "display_data",
          "data": {
            "text/plain": [
              "<Figure size 432x288 with 1 Axes>"
            ],
            "image/png": "[encoded data removed]"
          },
          "metadata": {
            "needs_background": "light"
          }
        }
      ]
    },
    {
      "cell_type": "markdown",
      "source": [
        "## Разделение временного ряда на обучающую и тестовую выборку"
      ],
      "metadata": {
        "id": "YothH0LzJCI6"
      }
    },
    {
      "cell_type": "code",
      "source": [
        "data2 = data.copy()"
      ],
      "metadata": {
        "id": "Z05W_fqhSrCn"
      },
      "execution_count": 138,
      "outputs": []
    },
    {
      "cell_type": "code",
      "source": [
        "# Целочисленная метка шкалы времени \n",
        "xnum = list(range(data2.shape[0]))\n",
        "# Разделение выборки на обучающую и тестовую\n",
        "Y = data2['value'].values\n",
        "train_size = int(len(Y) * 0.7)\n",
        "xnum_train, xnum_test = xnum[0:train_size], xnum[train_size:]\n",
        "train, test = Y[0:train_size], Y[train_size:]\n",
        "history_arima = [x for x in train]\n",
        "history_es = [x for x in train]"
      ],
      "metadata": {
        "id": "Be124sQnNdkp"
      },
      "execution_count": 139,
      "outputs": []
    },
    {
      "cell_type": "markdown",
      "source": [
        "## Прогнозирование временного ряда авторегрессионным методом (ARIMA)"
      ],
      "metadata": {
        "id": "xxqTJPf_SM1r"
      }
    },
    {
      "cell_type": "code",
      "source": [
        "from statsmodels.tsa.arima_model import ARIMA"
      ],
      "metadata": {
        "id": "ipSBB7j4OHUN"
      },
      "execution_count": 160,
      "outputs": []
    },
    {
      "cell_type": "code",
      "source": [
        "from statsmodels.tsa.holtwinters import ExponentialSmoothing"
      ],
      "metadata": {
        "id": "7wEnyMW-Pej_"
      },
      "execution_count": 141,
      "outputs": []
    },
    {
      "cell_type": "code",
      "source": [
        "from sklearn.metrics import mean_squared_error"
      ],
      "metadata": {
        "id": "41NPuehjV0oA"
      },
      "execution_count": 151,
      "outputs": []
    },
    {
      "cell_type": "code",
      "source": [
        "# Параметры модели (p,d,q) \n",
        "arima_order = (2,1,0)\n",
        "# Формирование предсказаний\n",
        "predictions_arima = list()\n",
        "for t in range(len(test)):\n",
        "    model_arima = ARIMA(history_arima, order=arima_order)\n",
        "    model_arima_fit = model_arima.fit()\n",
        "    yhat_arima = model_arima_fit.forecast()[0]\n",
        "    predictions_arima.append(yhat_arima)\n",
        "    history_arima.append(test[t])\n",
        "# Вычисление метрики RMSE\n",
        "error_arima = mean_squared_error(test, predictions_arima, squared=False)"
      ],
      "metadata": {
        "id": "mWtprG8XSWHU"
      },
      "execution_count": 152,
      "outputs": []
    },
    {
      "cell_type": "code",
      "source": [
        "# Ошибка прогноза\n",
        "np.mean(Y), error_arima"
      ],
      "metadata": {
        "colab": {
          "base_uri": "https://localhost:8080/"
        },
        "id": "BO4NsAkASdlT",
        "outputId": "ef928147-5010-42e7-ea82-c87d28aebf45"
      },
      "execution_count": 153,
      "outputs": [
        {
          "output_type": "execute_result",
          "data": {
            "text/plain": [
              "(243847.7678259804, 7372.900036604332)"
            ]
          },
          "metadata": {},
          "execution_count": 153
        }
      ]
    },
    {
      "cell_type": "code",
      "source": [
        "# Формирование предсказаний\n",
        "predictions_es = list()\n",
        "for t in range(len(test)):\n",
        "    model_es = ExponentialSmoothing(history_es)\n",
        "    model_es_fit = model_es.fit()\n",
        "    yhat_es = model_es_fit.forecast()[0]\n",
        "    predictions_es.append(yhat_es)\n",
        "    history_es.append(test[t])\n",
        "# Вычисление метрики RMSE\n",
        "error_es = mean_squared_error(test, predictions_es, squared=False)"
      ],
      "metadata": {
        "id": "HvnVr2iiW410"
      },
      "execution_count": 161,
      "outputs": []
    },
    {
      "cell_type": "code",
      "source": [
        "# Записываем предсказания в DataFrame\n",
        "data2['predictions_ARIMA'] = (train_size * [np.NAN]) + list(predictions_arima)\n",
        "data2['predictions_ARIMA'] = (train_size * [np.NAN]) + list(predictions_es)"
      ],
      "metadata": {
        "id": "U4Wb1cetSf2h"
      },
      "execution_count": 171,
      "outputs": []
    },
    {
      "cell_type": "code",
      "source": [
        "fig, ax = pyplot.subplots(1, 1, sharex='col', sharey='row', figsize=(10,5))\n",
        "fig.suptitle('Предсказания временного ряда')\n",
        "data2.plot(ax=ax, legend=True)\n",
        "pyplot.show()"
      ],
      "metadata": {
        "colab": {
          "base_uri": "https://localhost:8080/",
          "height": 369
        },
        "id": "65uhBgWfSjeQ",
        "outputId": "d798ccb4-2e89-4e99-c771-8d347bdcc308"
      },
      "execution_count": 172,
      "outputs": [
        {
          "output_type": "display_data",
          "data": {
            "text/plain": [
              "<Figure size 720x360 with 1 Axes>"
            ],
            "image/png": "[encoded data removed]"
          },
          "metadata": {
            "needs_background": "light"
          }
        }
      ]
    },
    {
      "cell_type": "code",
      "source": [
        "fig, ax = pyplot.subplots(1, 1, sharex='col', sharey='row', figsize=(10,5))\n",
        "fig.suptitle('Предсказания временного ряда (тестовая выборка)')\n",
        "data2[train_size:].plot(ax=ax, legend=True)\n",
        "pyplot.show()"
      ],
      "metadata": {
        "colab": {
          "base_uri": "https://localhost:8080/",
          "height": 369
        },
        "id": "hXoV5GzBTHTm",
        "outputId": "63421e06-f2c4-4970-cb1c-482367f4626c"
      },
      "execution_count": 173,
      "outputs": [
        {
          "output_type": "display_data",
          "data": {
            "text/plain": [
              "<Figure size 720x360 with 1 Axes>"
            ],
            "image/png": "[encoded data removed]"
          },
          "metadata": {
            "needs_background": "light"
          }
        }
      ]
    },
    {
      "cell_type": "markdown",
      "source": [
        "## Прогнозирование временного ряда методом символьной регресии"
      ],
      "metadata": {
        "id": "9y6dpv8XXJII"
      }
    },
    {
      "cell_type": "code",
      "source": [
        "pip install gplearn"
      ],
      "metadata": {
        "colab": {
          "base_uri": "https://localhost:8080/"
        },
        "id": "_26n1C6EX4FI",
        "outputId": "1ed00d2b-d536-45c6-9fbe-ea762acfbfa2"
      },
      "execution_count": 167,
      "outputs": [
        {
          "output_type": "stream",
          "name": "stdout",
          "text": [
            "Looking in indexes: https://pypi.org/simple, https://us-python.pkg.dev/colab-wheels/public/simple/\n",
            "Collecting gplearn\n",
            "  Downloading gplearn-0.4.2-py3-none-any.whl (25 kB)\n",
            "Requirement already satisfied: scikit-learn>=1.0.2 in /usr/local/lib/python3.7/dist-packages (from gplearn) (1.0.2)\n",
            "Requirement already satisfied: joblib>=1.0.0 in /usr/local/lib/python3.7/dist-packages (from gplearn) (1.1.0)\n",
            "Requirement already satisfied: scipy>=1.1.0 in /usr/local/lib/python3.7/dist-packages (from scikit-learn>=1.0.2->gplearn) (1.2.0)\n",
            "Requirement already satisfied: numpy>=1.14.6 in /usr/local/lib/python3.7/dist-packages (from scikit-learn>=1.0.2->gplearn) (1.21.6)\n",
            "Requirement already satisfied: threadpoolctl>=2.0.0 in /usr/local/lib/python3.7/dist-packages (from scikit-learn>=1.0.2->gplearn) (3.1.0)\n",
            "Installing collected packages: gplearn\n",
            "Successfully installed gplearn-0.4.2\n"
          ]
        }
      ]
    },
    {
      "cell_type": "code",
      "source": [
        "from gplearn.genetic import SymbolicRegressor"
      ],
      "metadata": {
        "id": "5u606FVAXOsJ"
      },
      "execution_count": 169,
      "outputs": []
    },
    {
      "cell_type": "code",
      "source": [
        "function_set = ['add', 'sub', 'mul', 'div', 'sin']\n",
        "SR = SymbolicRegressor(population_size=500, metric='mse',\n",
        "                               generations=70, stopping_criteria=0.01,\n",
        "                               init_depth=(4, 10), verbose=1, function_set=function_set,\n",
        "                               const_range=(-100, 100), random_state=0)"
      ],
      "metadata": {
        "id": "b2KcgKbIXIi7"
      },
      "execution_count": 170,
      "outputs": []
    },
    {
      "cell_type": "code",
      "source": [
        "SR.fit(np.array(xnum_train).reshape(-1, 1), train.reshape(-1, 1))"
      ],
      "metadata": {
        "colab": {
          "base_uri": "https://localhost:8080/"
        },
        "id": "GwvbOJ7DYVG4",
        "outputId": "b70d65e1-4dd5-402a-b79a-75e140ee72f3"
      },
      "execution_count": 174,
      "outputs": [
        {
          "output_type": "stream",
          "name": "stdout",
          "text": [
            "    |   Population Average    |             Best Individual              |\n",
            "---- ------------------------- ------------------------------------------ ----------\n",
            " Gen   Length          Fitness   Length          Fitness      OOB Fitness  Time Left\n",
            "   0   263.65      2.43463e+63       23      7.14077e+09              N/A      2.97m\n",
            "   1   130.98      5.77055e+16       43      6.06688e+09              N/A      1.21m\n",
            "   2    53.10      4.58992e+15       34      3.54847e+09              N/A     44.30s\n",
            "   3    34.28      1.99853e+19       13      1.42699e+09              N/A     34.84s\n",
            "   4    35.05      2.10424e+16       38      1.04052e+09              N/A     35.31s\n",
            "   5    30.47      2.56729e+16       36      4.29436e+08              N/A     32.71s\n",
            "   6    31.30      3.00498e+16       50      6.39791e+07              N/A     32.03s\n",
            "   7    38.37      8.59782e+15       35      1.51165e+07              N/A     33.31s\n",
            "   8    43.37      5.29474e+15       47      4.76034e+06              N/A     33.02s\n",
            "   9    37.70      8.42452e+15       35      4.14545e+06              N/A     31.21s\n",
            "  10    40.68      5.69103e+15       32      3.65059e+06              N/A     32.44s\n",
            "  11    45.38      5.71108e+15       29      3.65015e+06              N/A     33.63s\n",
            "  12    41.36      5.72894e+15       29      3.65015e+06              N/A     30.96s\n",
            "  13    35.07      3.58233e+15       29      3.65015e+06              N/A     28.08s\n",
            "  14    33.33      8.46569e+15       35      3.53261e+06              N/A     27.30s\n",
            "  15    31.43      3.14997e+19       35      3.53261e+06              N/A     26.11s\n",
            "  16    30.19      1.42657e+16       35      3.53261e+06              N/A     24.79s\n",
            "  17    30.81      2.81228e+15       35      3.53261e+06              N/A     26.79s\n",
            "  18    33.31      5.72757e+15       35      3.53261e+06              N/A     25.70s\n",
            "  19    33.71      1.26632e+16       35      3.50395e+06              N/A     24.44s\n",
            "  20    34.95      1.70198e+16       35      3.50395e+06              N/A     25.56s\n",
            "  21    42.21      6.70957e+15       35      3.50395e+06              N/A     24.69s\n",
            "  22    54.68      6.78469e+15       35      3.50395e+06              N/A     26.13s\n",
            "  23    50.99      6.47928e+18      102      3.50387e+06              N/A     25.80s\n",
            "  24    42.69      8.57551e+15       71      3.50376e+06              N/A     23.80s\n",
            "  25    59.07      6.73374e+21       85      3.49756e+06              N/A     24.78s\n",
            "  26    89.07      1.51918e+25       85      3.49756e+06              N/A     29.62s\n",
            "  27   100.70      2.98833e+18       91      3.48956e+06              N/A     29.39s\n",
            "  28   120.58      7.92131e+23       91      3.48956e+06              N/A     30.88s\n",
            "  29   142.26      1.91023e+18      127      3.48498e+06              N/A     35.27s\n",
            "  30   116.37       6.9315e+21       54      3.46676e+06              N/A     29.78s\n",
            "  31   103.96      2.33782e+22       54      3.46676e+06              N/A     32.00s\n",
            "  32   107.16      2.82439e+18       54      3.46676e+06              N/A     26.54s\n",
            "  33   110.56      4.95099e+26      112      3.45858e+06              N/A     26.25s\n",
            "  34    94.20      1.96986e+18      114      3.45249e+06              N/A     24.48s\n",
            "  35    77.71       6.0703e+15      133      3.43034e+06              N/A     20.86s\n",
            "  36   111.25      5.62717e+15       79      3.42948e+06              N/A     23.26s\n",
            "  37   142.44       1.4552e+18      246      3.41658e+06              N/A     26.83s\n",
            "  38   171.28      3.11029e+19      187      3.36822e+06              N/A     28.66s\n",
            "  39   197.58       2.8446e+16      187      3.36419e+06              N/A     30.50s\n",
            "  40   213.08      1.12226e+16      212      3.35931e+06              N/A     29.82s\n",
            "  41   193.33      7.07447e+17      181      3.35563e+06              N/A     27.04s\n",
            "  42   200.58      9.48793e+19      308      3.25166e+06              N/A     26.32s\n",
            "  43   203.16       6.9535e+17      308      3.24914e+06              N/A     25.42s\n",
            "  44   271.65      2.48275e+15      434      3.17665e+06              N/A     29.03s\n",
            "  45   340.95      1.45248e+18      434      3.17665e+06              N/A     31.68s\n",
            "  46   407.23       2.9286e+14      874      3.13466e+06              N/A     36.17s\n",
            "  47   475.59      8.20919e+13      857      3.13086e+06              N/A     38.70s\n",
            "  48   698.39      6.58531e+17     1124       3.1245e+06              N/A     49.57s\n",
            "  49   871.75      5.67064e+14     1140       3.1232e+06              N/A     56.92s\n",
            "  50  1008.67      1.44739e+18     1126      3.11533e+06              N/A      1.03m\n",
            "  51  1040.20      8.00984e+13     1337       3.1087e+06              N/A     59.61s\n",
            "  52  1087.90       4.8939e+10     1352      3.10262e+06              N/A     59.01s\n",
            "  53  1212.74      6.88053e+18     1338      3.09244e+06              N/A      1.01m\n",
            "  54  1332.59      9.76027e+14     1324      3.09015e+06              N/A      1.03m\n",
            "  55  1375.70       4.2908e+14     1361      3.08045e+06              N/A     59.40s\n",
            "  56  1400.24      4.21109e+14     1622      3.07579e+06              N/A     55.76s\n",
            "  57  1485.49      3.56926e+14     1361       3.0712e+06              N/A     54.34s\n",
            "  58  1565.07      5.99454e+17     1379      3.06568e+06              N/A     53.01s\n",
            "  59  1519.96      1.18494e+10     1452      3.05779e+06              N/A     47.01s\n",
            "  60  1441.96      3.61367e+14     1452      3.05779e+06              N/A     40.01s\n",
            "  61  1484.91      3.60553e+14     1441      3.04915e+06              N/A     36.85s\n",
            "  62  1502.33      8.71965e+13     1441      3.04637e+06              N/A     32.39s\n",
            "  63  1499.87      5.11657e+12     1470      3.04262e+06              N/A     28.25s\n",
            "  64  1457.59      3.97956e+14     1453      3.03789e+06              N/A     22.53s\n",
            "  65  1514.59      3.44098e+14     1735      3.03427e+06              N/A     18.64s\n",
            "  66  1597.79      6.70466e+14     1728      3.02874e+06              N/A     14.61s\n",
            "  67  1652.89      3.52673e+14     1753      3.02842e+06              N/A     10.24s\n",
            "  68  1696.85      3.44312e+14     1728      3.02504e+06              N/A      5.32s\n",
            "  69  1756.59      5.96419e+17     1817      3.01702e+06              N/A      0.00s\n"
          ]
        },
        {
          "output_type": "execute_result",
          "data": {
            "text/plain": [
              "SymbolicRegressor(const_range=(-100, 100),\n",
              "                  function_set=['add', 'sub', 'mul', 'div', 'sin'],\n",
              "                  generations=70, init_depth=(4, 10), metric='mse',\n",
              "                  population_size=500, random_state=0, stopping_criteria=0.01,\n",
              "                  verbose=1)"
            ]
          },
          "metadata": {},
          "execution_count": 174
        }
      ]
    },
    {
      "cell_type": "code",
      "source": [
        "# Предсказания\n",
        "y_sr = SR.predict(np.array(xnum_test).reshape(-1, 1))\n",
        "y_sr[:10]"
      ],
      "metadata": {
        "colab": {
          "base_uri": "https://localhost:8080/"
        },
        "id": "8Y20PkuoZCkB",
        "outputId": "ec8fdc22-df04-4e49-b263-092f7258c1f8"
      },
      "execution_count": 177,
      "outputs": [
        {
          "output_type": "execute_result",
          "data": {
            "text/plain": [
              "array([274891.75793852, 274817.36307349, 275068.42349884, 275594.91553188,\n",
              "       275909.57465535, 276033.9204471 , 276192.3291504 , 276368.95663777,\n",
              "       276651.56236873, 276542.01774132])"
            ]
          },
          "metadata": {},
          "execution_count": 177
        }
      ]
    },
    {
      "cell_type": "markdown",
      "source": [
        "## Качество прогноза моделей"
      ],
      "metadata": {
        "id": "dZDIpY3gY5N3"
      }
    },
    {
      "cell_type": "code",
      "source": [
        "def print_metrics(y_test, y_pred):\n",
        "    print(f\"R^2: {r2_score(y_test, y_pred)}\")\n",
        "    print(f\"MSE: {mean_squared_error(y_test, y_pred, squared=False)}\")\n",
        "    print(f\"MAE: {mean_absolute_error(y_test, y_pred)}\")"
      ],
      "metadata": {
        "id": "WVcGRzuJY8Ig"
      },
      "execution_count": 175,
      "outputs": []
    },
    {
      "cell_type": "code",
      "source": [
        "print(\"ARIMA\")\n",
        "print_metrics(test, predictions_arima)\n",
        "\n",
        "print(\"\\nGPLEARN\")\n",
        "print_metrics(test, y_sr)"
      ],
      "metadata": {
        "colab": {
          "base_uri": "https://localhost:8080/"
        },
        "id": "1oySHpuzY9-k",
        "outputId": "93e00afa-0ea5-49e4-e8b0-4806201280f4"
      },
      "execution_count": 180,
      "outputs": [
        {
          "output_type": "stream",
          "name": "stdout",
          "text": [
            "ARIMA\n",
            "R^2: 0.7495397912366841\n",
            "MSE: 7372.900036604332\n",
            "MAE: 751.3845663510563\n",
            "\n",
            "GPLEARN\n",
            "R^2: 0.8047153645391025\n",
            "MSE: 6510.330169456957\n",
            "MAE: 6443.710113418146\n"
          ]
        }
      ]
    }
  ]
}