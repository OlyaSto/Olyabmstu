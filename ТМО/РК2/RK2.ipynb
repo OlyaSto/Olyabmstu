{
  "nbformat": 4,
  "nbformat_minor": 0,
  "metadata": {
    "colab": {
      "name": "RK2.ipynb",
      "provenance": [],
      "collapsed_sections": [],
      "authorship_tag": "ABX9TyP811VMBdaSX4ZRIa8BcF1d",
      "include_colab_link": true
    },
    "kernelspec": {
      "name": "python3",
      "display_name": "Python 3"
    },
    "language_info": {
      "name": "python"
    }
  },
  "cells": [
    {
      "cell_type": "markdown",
      "metadata": {
        "id": "view-in-github",
        "colab_type": "text"
      },
      "source": [
        "<a href=\"https://colab.research.google.com/github/OlyaSto/Olyabmstu/blob/master/%D0%A2%D0%9C%D0%9E/%D0%A0%D0%9A2/RK2.ipynb\" target=\"_parent\"><img src=\"https://colab.research.google.com/assets/colab-badge.svg\" alt=\"Open In Colab\"/></a>"
      ]
    },
    {
      "cell_type": "markdown",
      "source": [
        "## Рубежный контроль №2"
      ],
      "metadata": {
        "id": "F173ieq8hHVt"
      }
    },
    {
      "cell_type": "markdown",
      "source": [
        "Столярова Ольга РТ5-61Б"
      ],
      "metadata": {
        "id": "1UtZG4qBiGq6"
      }
    },
    {
      "cell_type": "markdown",
      "source": [
        "Вариант 16"
      ],
      "metadata": {
        "id": "GGEHZKiPiKTW"
      }
    },
    {
      "cell_type": "markdown",
      "source": [
        "### Задание"
      ],
      "metadata": {
        "id": "uYEmo7M_iQmJ"
      }
    },
    {
      "cell_type": "markdown",
      "source": [
        "Задание. Для заданного набора данных (по Вашему варианту) постройте модели классификации или регрессии (в зависимости от конкретной задачи, рассматриваемой в наборе данных). Для построения моделей используйте методы 1 и 2 (по варианту для Вашей группы). Оцените качество моделей на основе подходящих метрик качества (не менее двух метрик). Какие метрики качества Вы использовали и почему? Какие выводы Вы можете сделать о качестве построенных моделей? Для построения моделей необходимо выполнить требуемую предобработку данных: заполнение пропусков, кодирование категориальных признаков, и т.д."
      ],
      "metadata": {
        "id": "8SvCU1YIiSAW"
      }
    },
    {
      "cell_type": "markdown",
      "source": [
        "Метод 1 - Дерево решений"
      ],
      "metadata": {
        "id": "RsPQ-u0KihDu"
      }
    },
    {
      "cell_type": "markdown",
      "source": [
        "Метод 2 - Градиентный бустинг"
      ],
      "metadata": {
        "id": "Y8KINut4ilSF"
      }
    },
    {
      "cell_type": "markdown",
      "source": [
        "## Импорт библиотек"
      ],
      "metadata": {
        "id": "8vG_NBdoi4lX"
      }
    },
    {
      "cell_type": "code",
      "execution_count": 1,
      "metadata": {
        "id": "C3jfIygNgHxP"
      },
      "outputs": [],
      "source": [
        "import pandas as pd\n",
        "import numpy as np\n",
        "from matplotlib import pyplot as plt\n",
        "import seaborn as sns\n",
        "from sklearn.model_selection import train_test_split\n",
        "from sklearn.tree import DecisionTreeRegressor\n",
        "from xgboost import XGBRegressor\n",
        "from sklearn.model_selection import RepeatedKFold\n",
        "from sklearn.model_selection import cross_val_score\n",
        "from sklearn.metrics import mean_absolute_error, mean_squared_error, median_absolute_error, r2_score\n",
        "from sklearn.model_selection import GridSearchCV, RandomizedSearchCV\n",
        "pd.options.display.float_format = '{:.0f}'.format"
      ]
    },
    {
      "cell_type": "markdown",
      "source": [
        "## Загрузка данных"
      ],
      "metadata": {
        "id": "ZoyksJuLkDv2"
      }
    },
    {
      "cell_type": "code",
      "source": [
        "from google.colab import drive\n",
        "drive.mount('/content/drive')"
      ],
      "metadata": {
        "colab": {
          "base_uri": "https://localhost:8080/"
        },
        "id": "rikMW-FVkDbr",
        "outputId": "e220073d-0118-4589-a59f-c83f92609d9a"
      },
      "execution_count": 4,
      "outputs": [
        {
          "output_type": "stream",
          "name": "stdout",
          "text": [
            "Mounted at /content/drive\n"
          ]
        }
      ]
    },
    {
      "cell_type": "code",
      "source": [
        "filename = '/content/drive/MyDrive/RK2.csv'"
      ],
      "metadata": {
        "id": "ALEX5c9VkYUI"
      },
      "execution_count": 6,
      "outputs": []
    },
    {
      "cell_type": "code",
      "source": [
        "df = pd.read_csv(filename, sep=',')"
      ],
      "metadata": {
        "id": "ug01G9-PkjFd"
      },
      "execution_count": 7,
      "outputs": []
    },
    {
      "cell_type": "code",
      "source": [
        "df.head()"
      ],
      "metadata": {
        "colab": {
          "base_uri": "https://localhost:8080/",
          "height": 421
        },
        "id": "5lWZMLSqknma",
        "outputId": "477fb5d7-e24f-4918-b5f1-971649edf453"
      },
      "execution_count": 8,
      "outputs": [
        {
          "output_type": "execute_result",
          "data": {
            "text/plain": [
              "   business_id          business_name          business_address  \\\n",
              "0       101192           Cochinita #2  2 Marina Blvd Fort Mason   \n",
              "1        97975             BREADBELLY           1408 Clement St   \n",
              "2        92982  Great Gold Restaurant             3161 24th St.   \n",
              "3       101389                 HOMAGE         214 CALIFORNIA ST   \n",
              "4        85986           Pronto Pizza               798 Eddy St   \n",
              "\n",
              "   business_city business_state business_postal_code  business_latitude  \\\n",
              "0  San Francisco             CA                  NaN                NaN   \n",
              "1  San Francisco             CA                94118                NaN   \n",
              "2  San Francisco             CA                94110                NaN   \n",
              "3  San Francisco             CA                94111                NaN   \n",
              "4  San Francisco             CA                94109                NaN   \n",
              "\n",
              "   business_longitude business_location  business_phone_number  ...  \\\n",
              "0                 NaN               NaN            14150429222  ...   \n",
              "1                 NaN               NaN            14157240859  ...   \n",
              "2                 NaN               NaN                    NaN  ...   \n",
              "3                 NaN               NaN            14154878161  ...   \n",
              "4                 NaN               NaN                    NaN  ...   \n",
              "\n",
              "         inspection_type           violation_id  \\\n",
              "0          New Ownership                    NaN   \n",
              "1  Routine - Unscheduled  97975_20190725_103124   \n",
              "2          New Ownership                    NaN   \n",
              "3       New Construction                    NaN   \n",
              "4          New Ownership  85986_20161011_103114   \n",
              "\n",
              "                               violation_description  risk_category  \\\n",
              "0                                                NaN            NaN   \n",
              "1  Inadequately cleaned or sanitized food contact...  Moderate Risk   \n",
              "2                                                NaN            NaN   \n",
              "3                                                NaN            NaN   \n",
              "4                       High risk vermin infestation      High Risk   \n",
              "\n",
              "  Neighborhoods (old) Police Districts Supervisor Districts  \\\n",
              "0                 NaN              NaN                  NaN   \n",
              "1                 NaN              NaN                  NaN   \n",
              "2                 NaN              NaN                  NaN   \n",
              "3                 NaN              NaN                  NaN   \n",
              "4                 NaN              NaN                  NaN   \n",
              "\n",
              "   Fire Prevention Districts  Zip Codes  Analysis Neighborhoods  \n",
              "0                        NaN        NaN                     NaN  \n",
              "1                        NaN        NaN                     NaN  \n",
              "2                        NaN        NaN                     NaN  \n",
              "3                        NaN        NaN                     NaN  \n",
              "4                        NaN        NaN                     NaN  \n",
              "\n",
              "[5 rows x 23 columns]"
            ],
            "text/html": [
              "\n",
              "  <div id=\"df-02e6437f-9552-4a3f-9069-694260589326\">\n",
              "    <div class=\"colab-df-container\">\n",
              "      <div>\n",
              "<style scoped>\n",
              "    .dataframe tbody tr th:only-of-type {\n",
              "        vertical-align: middle;\n",
              "    }\n",
              "\n",
              "    .dataframe tbody tr th {\n",
              "        vertical-align: top;\n",
              "    }\n",
              "\n",
              "    .dataframe thead th {\n",
              "        text-align: right;\n",
              "    }\n",
              "</style>\n",
              "<table border=\"1\" class=\"dataframe\">\n",
              "  <thead>\n",
              "    <tr style=\"text-align: right;\">\n",
              "      <th></th>\n",
              "      <th>business_id</th>\n",
              "      <th>business_name</th>\n",
              "      <th>business_address</th>\n",
              "      <th>business_city</th>\n",
              "      <th>business_state</th>\n",
              "      <th>business_postal_code</th>\n",
              "      <th>business_latitude</th>\n",
              "      <th>business_longitude</th>\n",
              "      <th>business_location</th>\n",
              "      <th>business_phone_number</th>\n",
              "      <th>...</th>\n",
              "      <th>inspection_type</th>\n",
              "      <th>violation_id</th>\n",
              "      <th>violation_description</th>\n",
              "      <th>risk_category</th>\n",
              "      <th>Neighborhoods (old)</th>\n",
              "      <th>Police Districts</th>\n",
              "      <th>Supervisor Districts</th>\n",
              "      <th>Fire Prevention Districts</th>\n",
              "      <th>Zip Codes</th>\n",
              "      <th>Analysis Neighborhoods</th>\n",
              "    </tr>\n",
              "  </thead>\n",
              "  <tbody>\n",
              "    <tr>\n",
              "      <th>0</th>\n",
              "      <td>101192</td>\n",
              "      <td>Cochinita #2</td>\n",
              "      <td>2 Marina Blvd Fort Mason</td>\n",
              "      <td>San Francisco</td>\n",
              "      <td>CA</td>\n",
              "      <td>NaN</td>\n",
              "      <td>NaN</td>\n",
              "      <td>NaN</td>\n",
              "      <td>NaN</td>\n",
              "      <td>14150429222</td>\n",
              "      <td>...</td>\n",
              "      <td>New Ownership</td>\n",
              "      <td>NaN</td>\n",
              "      <td>NaN</td>\n",
              "      <td>NaN</td>\n",
              "      <td>NaN</td>\n",
              "      <td>NaN</td>\n",
              "      <td>NaN</td>\n",
              "      <td>NaN</td>\n",
              "      <td>NaN</td>\n",
              "      <td>NaN</td>\n",
              "    </tr>\n",
              "    <tr>\n",
              "      <th>1</th>\n",
              "      <td>97975</td>\n",
              "      <td>BREADBELLY</td>\n",
              "      <td>1408 Clement St</td>\n",
              "      <td>San Francisco</td>\n",
              "      <td>CA</td>\n",
              "      <td>94118</td>\n",
              "      <td>NaN</td>\n",
              "      <td>NaN</td>\n",
              "      <td>NaN</td>\n",
              "      <td>14157240859</td>\n",
              "      <td>...</td>\n",
              "      <td>Routine - Unscheduled</td>\n",
              "      <td>97975_20190725_103124</td>\n",
              "      <td>Inadequately cleaned or sanitized food contact...</td>\n",
              "      <td>Moderate Risk</td>\n",
              "      <td>NaN</td>\n",
              "      <td>NaN</td>\n",
              "      <td>NaN</td>\n",
              "      <td>NaN</td>\n",
              "      <td>NaN</td>\n",
              "      <td>NaN</td>\n",
              "    </tr>\n",
              "    <tr>\n",
              "      <th>2</th>\n",
              "      <td>92982</td>\n",
              "      <td>Great Gold Restaurant</td>\n",
              "      <td>3161 24th St.</td>\n",
              "      <td>San Francisco</td>\n",
              "      <td>CA</td>\n",
              "      <td>94110</td>\n",
              "      <td>NaN</td>\n",
              "      <td>NaN</td>\n",
              "      <td>NaN</td>\n",
              "      <td>NaN</td>\n",
              "      <td>...</td>\n",
              "      <td>New Ownership</td>\n",
              "      <td>NaN</td>\n",
              "      <td>NaN</td>\n",
              "      <td>NaN</td>\n",
              "      <td>NaN</td>\n",
              "      <td>NaN</td>\n",
              "      <td>NaN</td>\n",
              "      <td>NaN</td>\n",
              "      <td>NaN</td>\n",
              "      <td>NaN</td>\n",
              "    </tr>\n",
              "    <tr>\n",
              "      <th>3</th>\n",
              "      <td>101389</td>\n",
              "      <td>HOMAGE</td>\n",
              "      <td>214 CALIFORNIA ST</td>\n",
              "      <td>San Francisco</td>\n",
              "      <td>CA</td>\n",
              "      <td>94111</td>\n",
              "      <td>NaN</td>\n",
              "      <td>NaN</td>\n",
              "      <td>NaN</td>\n",
              "      <td>14154878161</td>\n",
              "      <td>...</td>\n",
              "      <td>New Construction</td>\n",
              "      <td>NaN</td>\n",
              "      <td>NaN</td>\n",
              "      <td>NaN</td>\n",
              "      <td>NaN</td>\n",
              "      <td>NaN</td>\n",
              "      <td>NaN</td>\n",
              "      <td>NaN</td>\n",
              "      <td>NaN</td>\n",
              "      <td>NaN</td>\n",
              "    </tr>\n",
              "    <tr>\n",
              "      <th>4</th>\n",
              "      <td>85986</td>\n",
              "      <td>Pronto Pizza</td>\n",
              "      <td>798 Eddy St</td>\n",
              "      <td>San Francisco</td>\n",
              "      <td>CA</td>\n",
              "      <td>94109</td>\n",
              "      <td>NaN</td>\n",
              "      <td>NaN</td>\n",
              "      <td>NaN</td>\n",
              "      <td>NaN</td>\n",
              "      <td>...</td>\n",
              "      <td>New Ownership</td>\n",
              "      <td>85986_20161011_103114</td>\n",
              "      <td>High risk vermin infestation</td>\n",
              "      <td>High Risk</td>\n",
              "      <td>NaN</td>\n",
              "      <td>NaN</td>\n",
              "      <td>NaN</td>\n",
              "      <td>NaN</td>\n",
              "      <td>NaN</td>\n",
              "      <td>NaN</td>\n",
              "    </tr>\n",
              "  </tbody>\n",
              "</table>\n",
              "<p>5 rows × 23 columns</p>\n",
              "</div>\n",
              "      <button class=\"colab-df-convert\" onclick=\"convertToInteractive('df-02e6437f-9552-4a3f-9069-694260589326')\"\n",
              "              title=\"Convert this dataframe to an interactive table.\"\n",
              "              style=\"display:none;\">\n",
              "        \n",
              "  <svg xmlns=\"http://www.w3.org/2000/svg\" height=\"24px\"viewBox=\"0 0 24 24\"\n",
              "       width=\"24px\">\n",
              "    <path d=\"M0 0h24v24H0V0z\" fill=\"none\"/>\n",
              "    <path d=\"M18.56 5.44l.94 2.06.94-2.06 2.06-.94-2.06-.94-.94-2.06-.94 2.06-2.06.94zm-11 1L8.5 8.5l.94-2.06 2.06-.94-2.06-.94L8.5 2.5l-.94 2.06-2.06.94zm10 10l.94 2.06.94-2.06 2.06-.94-2.06-.94-.94-2.06-.94 2.06-2.06.94z\"/><path d=\"M17.41 7.96l-1.37-1.37c-.4-.4-.92-.59-1.43-.59-.52 0-1.04.2-1.43.59L10.3 9.45l-7.72 7.72c-.78.78-.78 2.05 0 2.83L4 21.41c.39.39.9.59 1.41.59.51 0 1.02-.2 1.41-.59l7.78-7.78 2.81-2.81c.8-.78.8-2.07 0-2.86zM5.41 20L4 18.59l7.72-7.72 1.47 1.35L5.41 20z\"/>\n",
              "  </svg>\n",
              "      </button>\n",
              "      \n",
              "  <style>\n",
              "    .colab-df-container {\n",
              "      display:flex;\n",
              "      flex-wrap:wrap;\n",
              "      gap: 12px;\n",
              "    }\n",
              "\n",
              "    .colab-df-convert {\n",
              "      background-color: #E8F0FE;\n",
              "      border: none;\n",
              "      border-radius: 50%;\n",
              "      cursor: pointer;\n",
              "      display: none;\n",
              "      fill: #1967D2;\n",
              "      height: 32px;\n",
              "      padding: 0 0 0 0;\n",
              "      width: 32px;\n",
              "    }\n",
              "\n",
              "    .colab-df-convert:hover {\n",
              "      background-color: #E2EBFA;\n",
              "      box-shadow: 0px 1px 2px rgba(60, 64, 67, 0.3), 0px 1px 3px 1px rgba(60, 64, 67, 0.15);\n",
              "      fill: #174EA6;\n",
              "    }\n",
              "\n",
              "    [theme=dark] .colab-df-convert {\n",
              "      background-color: #3B4455;\n",
              "      fill: #D2E3FC;\n",
              "    }\n",
              "\n",
              "    [theme=dark] .colab-df-convert:hover {\n",
              "      background-color: #434B5C;\n",
              "      box-shadow: 0px 1px 3px 1px rgba(0, 0, 0, 0.15);\n",
              "      filter: drop-shadow(0px 1px 2px rgba(0, 0, 0, 0.3));\n",
              "      fill: #FFFFFF;\n",
              "    }\n",
              "  </style>\n",
              "\n",
              "      <script>\n",
              "        const buttonEl =\n",
              "          document.querySelector('#df-02e6437f-9552-4a3f-9069-694260589326 button.colab-df-convert');\n",
              "        buttonEl.style.display =\n",
              "          google.colab.kernel.accessAllowed ? 'block' : 'none';\n",
              "\n",
              "        async function convertToInteractive(key) {\n",
              "          const element = document.querySelector('#df-02e6437f-9552-4a3f-9069-694260589326');\n",
              "          const dataTable =\n",
              "            await google.colab.kernel.invokeFunction('convertToInteractive',\n",
              "                                                     [key], {});\n",
              "          if (!dataTable) return;\n",
              "\n",
              "          const docLinkHtml = 'Like what you see? Visit the ' +\n",
              "            '<a target=\"_blank\" href=https://colab.research.google.com/notebooks/data_table.ipynb>data table notebook</a>'\n",
              "            + ' to learn more about interactive tables.';\n",
              "          element.innerHTML = '';\n",
              "          dataTable['output_type'] = 'display_data';\n",
              "          await google.colab.output.renderOutput(dataTable, element);\n",
              "          const docLink = document.createElement('div');\n",
              "          docLink.innerHTML = docLinkHtml;\n",
              "          element.appendChild(docLink);\n",
              "        }\n",
              "      </script>\n",
              "    </div>\n",
              "  </div>\n",
              "  "
            ]
          },
          "metadata": {},
          "execution_count": 8
        }
      ]
    },
    {
      "cell_type": "markdown",
      "source": [
        "### Обработка пропусков"
      ],
      "metadata": {
        "id": "4Ld5Dtk_krDb"
      }
    },
    {
      "cell_type": "code",
      "source": [
        "df.isnull().sum()"
      ],
      "metadata": {
        "colab": {
          "base_uri": "https://localhost:8080/"
        },
        "id": "MDn0YEe1ksW9",
        "outputId": "5d622e47-a414-49ed-fab1-334454a377a2"
      },
      "execution_count": 10,
      "outputs": [
        {
          "output_type": "execute_result",
          "data": {
            "text/plain": [
              "business_id                      0\n",
              "business_name                    0\n",
              "business_address                 0\n",
              "business_city                    0\n",
              "business_state                   0\n",
              "business_postal_code          1018\n",
              "business_latitude            19556\n",
              "business_longitude           19556\n",
              "business_location            19556\n",
              "business_phone_number        36938\n",
              "inspection_id                    0\n",
              "inspection_date                  0\n",
              "inspection_score             13610\n",
              "inspection_type                  0\n",
              "violation_id                 12870\n",
              "violation_description        12870\n",
              "risk_category                12870\n",
              "Neighborhoods (old)          19594\n",
              "Police Districts             19594\n",
              "Supervisor Districts         19594\n",
              "Fire Prevention Districts    19646\n",
              "Zip Codes                    19576\n",
              "Analysis Neighborhoods       19594\n",
              "dtype: int64"
            ]
          },
          "metadata": {},
          "execution_count": 10
        }
      ]
    },
    {
      "cell_type": "code",
      "source": [
        "df.shape"
      ],
      "metadata": {
        "colab": {
          "base_uri": "https://localhost:8080/"
        },
        "id": "KQuT9JAYk0FS",
        "outputId": "96f69271-0518-4a23-bfb4-118440b1ccc2"
      },
      "execution_count": 12,
      "outputs": [
        {
          "output_type": "execute_result",
          "data": {
            "text/plain": [
              "(53973, 23)"
            ]
          },
          "metadata": {},
          "execution_count": 12
        }
      ]
    },
    {
      "cell_type": "code",
      "source": [
        "total_count = df.shape[0]\n",
        "print('Всего строк: {}'.format(total_count))"
      ],
      "metadata": {
        "colab": {
          "base_uri": "https://localhost:8080/"
        },
        "id": "Nva-mwFak5a0",
        "outputId": "9f987be3-4d64-434a-d57d-6c880044816f"
      },
      "execution_count": 14,
      "outputs": [
        {
          "output_type": "stream",
          "name": "stdout",
          "text": [
            "Всего строк: 53973\n"
          ]
        }
      ]
    },
    {
      "cell_type": "code",
      "source": [
        "df = df.dropna(axis=0, how='any')\n",
        "df.shape"
      ],
      "metadata": {
        "colab": {
          "base_uri": "https://localhost:8080/"
        },
        "id": "VC_RGhVBlHmU",
        "outputId": "72b902a7-32ad-4fc2-f822-d1eeb4bdf19a"
      },
      "execution_count": 17,
      "outputs": [
        {
          "output_type": "execute_result",
          "data": {
            "text/plain": [
              "(6566, 23)"
            ]
          },
          "metadata": {},
          "execution_count": 17
        }
      ]
    },
    {
      "cell_type": "code",
      "source": [
        "df.head()"
      ],
      "metadata": {
        "colab": {
          "base_uri": "https://localhost:8080/",
          "height": 508
        },
        "id": "yKNnNnIElStz",
        "outputId": "1bf0da6c-8294-4ae6-8458-d11b00ee4fdc"
      },
      "execution_count": 19,
      "outputs": [
        {
          "output_type": "execute_result",
          "data": {
            "text/plain": [
              "     business_id                business_name         business_address  \\\n",
              "11          4794                     VICTOR'S          210 TOWNSEND St   \n",
              "172        63652  SFDH - Banquet Main Kitchen  450 Powell St 2nd Floor   \n",
              "327          328                       Miyako         1470 Fillmore St   \n",
              "372         2684            ERIC'S RESTAURANT           1500 Church St   \n",
              "397          328                       Miyako         1470 Fillmore St   \n",
              "\n",
              "     business_city business_state business_postal_code  business_latitude  \\\n",
              "11   San Francisco             CA                94107                 38   \n",
              "172  San Francisco             CA                94102                 38   \n",
              "327  San Francisco             CA                94115                 38   \n",
              "372  San Francisco             CA                94131                 38   \n",
              "397  San Francisco             CA                94115                 38   \n",
              "\n",
              "     business_longitude                                  business_location  \\\n",
              "11                 -122  {'type': 'Point', 'coordinates': [-122.393089,...   \n",
              "172                -122  {'type': 'Point', 'coordinates': [-122.408507,...   \n",
              "327                -122  {'type': 'Point', 'coordinates': [-122.432584,...   \n",
              "372                -122  {'type': 'Point', 'coordinates': [-122.426995,...   \n",
              "397                -122  {'type': 'Point', 'coordinates': [-122.432584,...   \n",
              "\n",
              "     business_phone_number  ...        inspection_type           violation_id  \\\n",
              "11             14155607018  ...  Routine - Unscheduled   4794_20181030_103138   \n",
              "172            14155397755  ...  Routine - Unscheduled  63652_20190904_103133   \n",
              "327            14155538905  ...  Routine - Unscheduled    328_20161122_103103   \n",
              "372            14155280919  ...  Routine - Unscheduled   2684_20190715_103109   \n",
              "397            14155538905  ...  Routine - Unscheduled    328_20161122_103149   \n",
              "\n",
              "                                 violation_description  risk_category  \\\n",
              "11   Improper storage use or identification of toxi...       Low Risk   \n",
              "172             Foods not protected from contamination  Moderate Risk   \n",
              "327                 High risk food holding temperature      High Risk   \n",
              "372        Unclean or unsanitary food contact surfaces      High Risk   \n",
              "397  Wiping cloths not clean or properly stored or ...       Low Risk   \n",
              "\n",
              "    Neighborhoods (old) Police Districts Supervisor Districts  \\\n",
              "11                   34                2                    9   \n",
              "172                   6                1                   10   \n",
              "327                  41                9                   11   \n",
              "372                  22                7                    5   \n",
              "397                  41                9                   11   \n",
              "\n",
              "     Fire Prevention Districts  Zip Codes  Analysis Neighborhoods  \n",
              "11                           6      28856                      34  \n",
              "172                          5      28852                       8  \n",
              "327                         15      29490                      39  \n",
              "372                          2         63                      22  \n",
              "397                         15      29490                      39  \n",
              "\n",
              "[5 rows x 23 columns]"
            ],
            "text/html": [
              "\n",
              "  <div id=\"df-aa812731-214b-4e18-b93c-fb7411f9c3a2\">\n",
              "    <div class=\"colab-df-container\">\n",
              "      <div>\n",
              "<style scoped>\n",
              "    .dataframe tbody tr th:only-of-type {\n",
              "        vertical-align: middle;\n",
              "    }\n",
              "\n",
              "    .dataframe tbody tr th {\n",
              "        vertical-align: top;\n",
              "    }\n",
              "\n",
              "    .dataframe thead th {\n",
              "        text-align: right;\n",
              "    }\n",
              "</style>\n",
              "<table border=\"1\" class=\"dataframe\">\n",
              "  <thead>\n",
              "    <tr style=\"text-align: right;\">\n",
              "      <th></th>\n",
              "      <th>business_id</th>\n",
              "      <th>business_name</th>\n",
              "      <th>business_address</th>\n",
              "      <th>business_city</th>\n",
              "      <th>business_state</th>\n",
              "      <th>business_postal_code</th>\n",
              "      <th>business_latitude</th>\n",
              "      <th>business_longitude</th>\n",
              "      <th>business_location</th>\n",
              "      <th>business_phone_number</th>\n",
              "      <th>...</th>\n",
              "      <th>inspection_type</th>\n",
              "      <th>violation_id</th>\n",
              "      <th>violation_description</th>\n",
              "      <th>risk_category</th>\n",
              "      <th>Neighborhoods (old)</th>\n",
              "      <th>Police Districts</th>\n",
              "      <th>Supervisor Districts</th>\n",
              "      <th>Fire Prevention Districts</th>\n",
              "      <th>Zip Codes</th>\n",
              "      <th>Analysis Neighborhoods</th>\n",
              "    </tr>\n",
              "  </thead>\n",
              "  <tbody>\n",
              "    <tr>\n",
              "      <th>11</th>\n",
              "      <td>4794</td>\n",
              "      <td>VICTOR'S</td>\n",
              "      <td>210 TOWNSEND St</td>\n",
              "      <td>San Francisco</td>\n",
              "      <td>CA</td>\n",
              "      <td>94107</td>\n",
              "      <td>38</td>\n",
              "      <td>-122</td>\n",
              "      <td>{'type': 'Point', 'coordinates': [-122.393089,...</td>\n",
              "      <td>14155607018</td>\n",
              "      <td>...</td>\n",
              "      <td>Routine - Unscheduled</td>\n",
              "      <td>4794_20181030_103138</td>\n",
              "      <td>Improper storage use or identification of toxi...</td>\n",
              "      <td>Low Risk</td>\n",
              "      <td>34</td>\n",
              "      <td>2</td>\n",
              "      <td>9</td>\n",
              "      <td>6</td>\n",
              "      <td>28856</td>\n",
              "      <td>34</td>\n",
              "    </tr>\n",
              "    <tr>\n",
              "      <th>172</th>\n",
              "      <td>63652</td>\n",
              "      <td>SFDH - Banquet Main Kitchen</td>\n",
              "      <td>450 Powell St 2nd Floor</td>\n",
              "      <td>San Francisco</td>\n",
              "      <td>CA</td>\n",
              "      <td>94102</td>\n",
              "      <td>38</td>\n",
              "      <td>-122</td>\n",
              "      <td>{'type': 'Point', 'coordinates': [-122.408507,...</td>\n",
              "      <td>14155397755</td>\n",
              "      <td>...</td>\n",
              "      <td>Routine - Unscheduled</td>\n",
              "      <td>63652_20190904_103133</td>\n",
              "      <td>Foods not protected from contamination</td>\n",
              "      <td>Moderate Risk</td>\n",
              "      <td>6</td>\n",
              "      <td>1</td>\n",
              "      <td>10</td>\n",
              "      <td>5</td>\n",
              "      <td>28852</td>\n",
              "      <td>8</td>\n",
              "    </tr>\n",
              "    <tr>\n",
              "      <th>327</th>\n",
              "      <td>328</td>\n",
              "      <td>Miyako</td>\n",
              "      <td>1470 Fillmore St</td>\n",
              "      <td>San Francisco</td>\n",
              "      <td>CA</td>\n",
              "      <td>94115</td>\n",
              "      <td>38</td>\n",
              "      <td>-122</td>\n",
              "      <td>{'type': 'Point', 'coordinates': [-122.432584,...</td>\n",
              "      <td>14155538905</td>\n",
              "      <td>...</td>\n",
              "      <td>Routine - Unscheduled</td>\n",
              "      <td>328_20161122_103103</td>\n",
              "      <td>High risk food holding temperature</td>\n",
              "      <td>High Risk</td>\n",
              "      <td>41</td>\n",
              "      <td>9</td>\n",
              "      <td>11</td>\n",
              "      <td>15</td>\n",
              "      <td>29490</td>\n",
              "      <td>39</td>\n",
              "    </tr>\n",
              "    <tr>\n",
              "      <th>372</th>\n",
              "      <td>2684</td>\n",
              "      <td>ERIC'S RESTAURANT</td>\n",
              "      <td>1500 Church St</td>\n",
              "      <td>San Francisco</td>\n",
              "      <td>CA</td>\n",
              "      <td>94131</td>\n",
              "      <td>38</td>\n",
              "      <td>-122</td>\n",
              "      <td>{'type': 'Point', 'coordinates': [-122.426995,...</td>\n",
              "      <td>14155280919</td>\n",
              "      <td>...</td>\n",
              "      <td>Routine - Unscheduled</td>\n",
              "      <td>2684_20190715_103109</td>\n",
              "      <td>Unclean or unsanitary food contact surfaces</td>\n",
              "      <td>High Risk</td>\n",
              "      <td>22</td>\n",
              "      <td>7</td>\n",
              "      <td>5</td>\n",
              "      <td>2</td>\n",
              "      <td>63</td>\n",
              "      <td>22</td>\n",
              "    </tr>\n",
              "    <tr>\n",
              "      <th>397</th>\n",
              "      <td>328</td>\n",
              "      <td>Miyako</td>\n",
              "      <td>1470 Fillmore St</td>\n",
              "      <td>San Francisco</td>\n",
              "      <td>CA</td>\n",
              "      <td>94115</td>\n",
              "      <td>38</td>\n",
              "      <td>-122</td>\n",
              "      <td>{'type': 'Point', 'coordinates': [-122.432584,...</td>\n",
              "      <td>14155538905</td>\n",
              "      <td>...</td>\n",
              "      <td>Routine - Unscheduled</td>\n",
              "      <td>328_20161122_103149</td>\n",
              "      <td>Wiping cloths not clean or properly stored or ...</td>\n",
              "      <td>Low Risk</td>\n",
              "      <td>41</td>\n",
              "      <td>9</td>\n",
              "      <td>11</td>\n",
              "      <td>15</td>\n",
              "      <td>29490</td>\n",
              "      <td>39</td>\n",
              "    </tr>\n",
              "  </tbody>\n",
              "</table>\n",
              "<p>5 rows × 23 columns</p>\n",
              "</div>\n",
              "      <button class=\"colab-df-convert\" onclick=\"convertToInteractive('df-aa812731-214b-4e18-b93c-fb7411f9c3a2')\"\n",
              "              title=\"Convert this dataframe to an interactive table.\"\n",
              "              style=\"display:none;\">\n",
              "        \n",
              "  <svg xmlns=\"http://www.w3.org/2000/svg\" height=\"24px\"viewBox=\"0 0 24 24\"\n",
              "       width=\"24px\">\n",
              "    <path d=\"M0 0h24v24H0V0z\" fill=\"none\"/>\n",
              "    <path d=\"M18.56 5.44l.94 2.06.94-2.06 2.06-.94-2.06-.94-.94-2.06-.94 2.06-2.06.94zm-11 1L8.5 8.5l.94-2.06 2.06-.94-2.06-.94L8.5 2.5l-.94 2.06-2.06.94zm10 10l.94 2.06.94-2.06 2.06-.94-2.06-.94-.94-2.06-.94 2.06-2.06.94z\"/><path d=\"M17.41 7.96l-1.37-1.37c-.4-.4-.92-.59-1.43-.59-.52 0-1.04.2-1.43.59L10.3 9.45l-7.72 7.72c-.78.78-.78 2.05 0 2.83L4 21.41c.39.39.9.59 1.41.59.51 0 1.02-.2 1.41-.59l7.78-7.78 2.81-2.81c.8-.78.8-2.07 0-2.86zM5.41 20L4 18.59l7.72-7.72 1.47 1.35L5.41 20z\"/>\n",
              "  </svg>\n",
              "      </button>\n",
              "      \n",
              "  <style>\n",
              "    .colab-df-container {\n",
              "      display:flex;\n",
              "      flex-wrap:wrap;\n",
              "      gap: 12px;\n",
              "    }\n",
              "\n",
              "    .colab-df-convert {\n",
              "      background-color: #E8F0FE;\n",
              "      border: none;\n",
              "      border-radius: 50%;\n",
              "      cursor: pointer;\n",
              "      display: none;\n",
              "      fill: #1967D2;\n",
              "      height: 32px;\n",
              "      padding: 0 0 0 0;\n",
              "      width: 32px;\n",
              "    }\n",
              "\n",
              "    .colab-df-convert:hover {\n",
              "      background-color: #E2EBFA;\n",
              "      box-shadow: 0px 1px 2px rgba(60, 64, 67, 0.3), 0px 1px 3px 1px rgba(60, 64, 67, 0.15);\n",
              "      fill: #174EA6;\n",
              "    }\n",
              "\n",
              "    [theme=dark] .colab-df-convert {\n",
              "      background-color: #3B4455;\n",
              "      fill: #D2E3FC;\n",
              "    }\n",
              "\n",
              "    [theme=dark] .colab-df-convert:hover {\n",
              "      background-color: #434B5C;\n",
              "      box-shadow: 0px 1px 3px 1px rgba(0, 0, 0, 0.15);\n",
              "      filter: drop-shadow(0px 1px 2px rgba(0, 0, 0, 0.3));\n",
              "      fill: #FFFFFF;\n",
              "    }\n",
              "  </style>\n",
              "\n",
              "      <script>\n",
              "        const buttonEl =\n",
              "          document.querySelector('#df-aa812731-214b-4e18-b93c-fb7411f9c3a2 button.colab-df-convert');\n",
              "        buttonEl.style.display =\n",
              "          google.colab.kernel.accessAllowed ? 'block' : 'none';\n",
              "\n",
              "        async function convertToInteractive(key) {\n",
              "          const element = document.querySelector('#df-aa812731-214b-4e18-b93c-fb7411f9c3a2');\n",
              "          const dataTable =\n",
              "            await google.colab.kernel.invokeFunction('convertToInteractive',\n",
              "                                                     [key], {});\n",
              "          if (!dataTable) return;\n",
              "\n",
              "          const docLinkHtml = 'Like what you see? Visit the ' +\n",
              "            '<a target=\"_blank\" href=https://colab.research.google.com/notebooks/data_table.ipynb>data table notebook</a>'\n",
              "            + ' to learn more about interactive tables.';\n",
              "          element.innerHTML = '';\n",
              "          dataTable['output_type'] = 'display_data';\n",
              "          await google.colab.output.renderOutput(dataTable, element);\n",
              "          const docLink = document.createElement('div');\n",
              "          docLink.innerHTML = docLinkHtml;\n",
              "          element.appendChild(docLink);\n",
              "        }\n",
              "      </script>\n",
              "    </div>\n",
              "  </div>\n",
              "  "
            ]
          },
          "metadata": {},
          "execution_count": 19
        }
      ]
    },
    {
      "cell_type": "markdown",
      "source": [
        "## Кодируем категориальные признаки"
      ],
      "metadata": {
        "id": "8_lD9-mGladv"
      }
    },
    {
      "cell_type": "markdown",
      "source": [
        "Удалим колонки, которые не влияют на целевой признак:"
      ],
      "metadata": {
        "id": "Z3E0MyUUlftF"
      }
    },
    {
      "cell_type": "code",
      "source": [
        "df = df.drop(columns='business_name')\n",
        "df = df.drop(columns='business_address')\n",
        "df = df.drop(columns='business_city')\n",
        "df = df.drop(columns='business_state')\n",
        "df = df.drop(columns='business_location')\n",
        "df = df.drop(columns='business_phone_number')\n",
        "df = df.drop(columns='violation_description')"
      ],
      "metadata": {
        "id": "oXTAUT86lkHr"
      },
      "execution_count": 20,
      "outputs": []
    },
    {
      "cell_type": "code",
      "source": [
        "df.shape"
      ],
      "metadata": {
        "colab": {
          "base_uri": "https://localhost:8080/"
        },
        "id": "ldh7GybGlxA8",
        "outputId": "ce88bd09-37b9-41c0-8db6-1e8719587de6"
      },
      "execution_count": 22,
      "outputs": [
        {
          "output_type": "execute_result",
          "data": {
            "text/plain": [
              "(6566, 16)"
            ]
          },
          "metadata": {},
          "execution_count": 22
        }
      ]
    },
    {
      "cell_type": "code",
      "source": [
        "df.head()"
      ],
      "metadata": {
        "colab": {
          "base_uri": "https://localhost:8080/",
          "height": 392
        },
        "id": "Q5ZHYo9Hlz--",
        "outputId": "3e519d37-1729-4cc3-f841-a618f8da653f"
      },
      "execution_count": 24,
      "outputs": [
        {
          "output_type": "execute_result",
          "data": {
            "text/plain": [
              "     business_id business_postal_code  business_latitude  business_longitude  \\\n",
              "11          4794                94107                 38                -122   \n",
              "172        63652                94102                 38                -122   \n",
              "327          328                94115                 38                -122   \n",
              "372         2684                94131                 38                -122   \n",
              "397          328                94115                 38                -122   \n",
              "\n",
              "      inspection_id          inspection_date  inspection_score  \\\n",
              "11    4794_20181030  2018-10-30T00:00:00.000                71   \n",
              "172  63652_20190904  2019-09-04T00:00:00.000                94   \n",
              "327    328_20161122  2016-11-22T00:00:00.000                81   \n",
              "372   2684_20190715  2019-07-15T00:00:00.000                87   \n",
              "397    328_20161122  2016-11-22T00:00:00.000                81   \n",
              "\n",
              "           inspection_type           violation_id  risk_category  \\\n",
              "11   Routine - Unscheduled   4794_20181030_103138       Low Risk   \n",
              "172  Routine - Unscheduled  63652_20190904_103133  Moderate Risk   \n",
              "327  Routine - Unscheduled    328_20161122_103103      High Risk   \n",
              "372  Routine - Unscheduled   2684_20190715_103109      High Risk   \n",
              "397  Routine - Unscheduled    328_20161122_103149       Low Risk   \n",
              "\n",
              "     Neighborhoods (old)  Police Districts  Supervisor Districts  \\\n",
              "11                    34                 2                     9   \n",
              "172                    6                 1                    10   \n",
              "327                   41                 9                    11   \n",
              "372                   22                 7                     5   \n",
              "397                   41                 9                    11   \n",
              "\n",
              "     Fire Prevention Districts  Zip Codes  Analysis Neighborhoods  \n",
              "11                           6      28856                      34  \n",
              "172                          5      28852                       8  \n",
              "327                         15      29490                      39  \n",
              "372                          2         63                      22  \n",
              "397                         15      29490                      39  "
            ],
            "text/html": [
              "\n",
              "  <div id=\"df-afdfbf65-ec31-4b30-9bb9-900c03c2a374\">\n",
              "    <div class=\"colab-df-container\">\n",
              "      <div>\n",
              "<style scoped>\n",
              "    .dataframe tbody tr th:only-of-type {\n",
              "        vertical-align: middle;\n",
              "    }\n",
              "\n",
              "    .dataframe tbody tr th {\n",
              "        vertical-align: top;\n",
              "    }\n",
              "\n",
              "    .dataframe thead th {\n",
              "        text-align: right;\n",
              "    }\n",
              "</style>\n",
              "<table border=\"1\" class=\"dataframe\">\n",
              "  <thead>\n",
              "    <tr style=\"text-align: right;\">\n",
              "      <th></th>\n",
              "      <th>business_id</th>\n",
              "      <th>business_postal_code</th>\n",
              "      <th>business_latitude</th>\n",
              "      <th>business_longitude</th>\n",
              "      <th>inspection_id</th>\n",
              "      <th>inspection_date</th>\n",
              "      <th>inspection_score</th>\n",
              "      <th>inspection_type</th>\n",
              "      <th>violation_id</th>\n",
              "      <th>risk_category</th>\n",
              "      <th>Neighborhoods (old)</th>\n",
              "      <th>Police Districts</th>\n",
              "      <th>Supervisor Districts</th>\n",
              "      <th>Fire Prevention Districts</th>\n",
              "      <th>Zip Codes</th>\n",
              "      <th>Analysis Neighborhoods</th>\n",
              "    </tr>\n",
              "  </thead>\n",
              "  <tbody>\n",
              "    <tr>\n",
              "      <th>11</th>\n",
              "      <td>4794</td>\n",
              "      <td>94107</td>\n",
              "      <td>38</td>\n",
              "      <td>-122</td>\n",
              "      <td>4794_20181030</td>\n",
              "      <td>2018-10-30T00:00:00.000</td>\n",
              "      <td>71</td>\n",
              "      <td>Routine - Unscheduled</td>\n",
              "      <td>4794_20181030_103138</td>\n",
              "      <td>Low Risk</td>\n",
              "      <td>34</td>\n",
              "      <td>2</td>\n",
              "      <td>9</td>\n",
              "      <td>6</td>\n",
              "      <td>28856</td>\n",
              "      <td>34</td>\n",
              "    </tr>\n",
              "    <tr>\n",
              "      <th>172</th>\n",
              "      <td>63652</td>\n",
              "      <td>94102</td>\n",
              "      <td>38</td>\n",
              "      <td>-122</td>\n",
              "      <td>63652_20190904</td>\n",
              "      <td>2019-09-04T00:00:00.000</td>\n",
              "      <td>94</td>\n",
              "      <td>Routine - Unscheduled</td>\n",
              "      <td>63652_20190904_103133</td>\n",
              "      <td>Moderate Risk</td>\n",
              "      <td>6</td>\n",
              "      <td>1</td>\n",
              "      <td>10</td>\n",
              "      <td>5</td>\n",
              "      <td>28852</td>\n",
              "      <td>8</td>\n",
              "    </tr>\n",
              "    <tr>\n",
              "      <th>327</th>\n",
              "      <td>328</td>\n",
              "      <td>94115</td>\n",
              "      <td>38</td>\n",
              "      <td>-122</td>\n",
              "      <td>328_20161122</td>\n",
              "      <td>2016-11-22T00:00:00.000</td>\n",
              "      <td>81</td>\n",
              "      <td>Routine - Unscheduled</td>\n",
              "      <td>328_20161122_103103</td>\n",
              "      <td>High Risk</td>\n",
              "      <td>41</td>\n",
              "      <td>9</td>\n",
              "      <td>11</td>\n",
              "      <td>15</td>\n",
              "      <td>29490</td>\n",
              "      <td>39</td>\n",
              "    </tr>\n",
              "    <tr>\n",
              "      <th>372</th>\n",
              "      <td>2684</td>\n",
              "      <td>94131</td>\n",
              "      <td>38</td>\n",
              "      <td>-122</td>\n",
              "      <td>2684_20190715</td>\n",
              "      <td>2019-07-15T00:00:00.000</td>\n",
              "      <td>87</td>\n",
              "      <td>Routine - Unscheduled</td>\n",
              "      <td>2684_20190715_103109</td>\n",
              "      <td>High Risk</td>\n",
              "      <td>22</td>\n",
              "      <td>7</td>\n",
              "      <td>5</td>\n",
              "      <td>2</td>\n",
              "      <td>63</td>\n",
              "      <td>22</td>\n",
              "    </tr>\n",
              "    <tr>\n",
              "      <th>397</th>\n",
              "      <td>328</td>\n",
              "      <td>94115</td>\n",
              "      <td>38</td>\n",
              "      <td>-122</td>\n",
              "      <td>328_20161122</td>\n",
              "      <td>2016-11-22T00:00:00.000</td>\n",
              "      <td>81</td>\n",
              "      <td>Routine - Unscheduled</td>\n",
              "      <td>328_20161122_103149</td>\n",
              "      <td>Low Risk</td>\n",
              "      <td>41</td>\n",
              "      <td>9</td>\n",
              "      <td>11</td>\n",
              "      <td>15</td>\n",
              "      <td>29490</td>\n",
              "      <td>39</td>\n",
              "    </tr>\n",
              "  </tbody>\n",
              "</table>\n",
              "</div>\n",
              "      <button class=\"colab-df-convert\" onclick=\"convertToInteractive('df-afdfbf65-ec31-4b30-9bb9-900c03c2a374')\"\n",
              "              title=\"Convert this dataframe to an interactive table.\"\n",
              "              style=\"display:none;\">\n",
              "        \n",
              "  <svg xmlns=\"http://www.w3.org/2000/svg\" height=\"24px\"viewBox=\"0 0 24 24\"\n",
              "       width=\"24px\">\n",
              "    <path d=\"M0 0h24v24H0V0z\" fill=\"none\"/>\n",
              "    <path d=\"M18.56 5.44l.94 2.06.94-2.06 2.06-.94-2.06-.94-.94-2.06-.94 2.06-2.06.94zm-11 1L8.5 8.5l.94-2.06 2.06-.94-2.06-.94L8.5 2.5l-.94 2.06-2.06.94zm10 10l.94 2.06.94-2.06 2.06-.94-2.06-.94-.94-2.06-.94 2.06-2.06.94z\"/><path d=\"M17.41 7.96l-1.37-1.37c-.4-.4-.92-.59-1.43-.59-.52 0-1.04.2-1.43.59L10.3 9.45l-7.72 7.72c-.78.78-.78 2.05 0 2.83L4 21.41c.39.39.9.59 1.41.59.51 0 1.02-.2 1.41-.59l7.78-7.78 2.81-2.81c.8-.78.8-2.07 0-2.86zM5.41 20L4 18.59l7.72-7.72 1.47 1.35L5.41 20z\"/>\n",
              "  </svg>\n",
              "      </button>\n",
              "      \n",
              "  <style>\n",
              "    .colab-df-container {\n",
              "      display:flex;\n",
              "      flex-wrap:wrap;\n",
              "      gap: 12px;\n",
              "    }\n",
              "\n",
              "    .colab-df-convert {\n",
              "      background-color: #E8F0FE;\n",
              "      border: none;\n",
              "      border-radius: 50%;\n",
              "      cursor: pointer;\n",
              "      display: none;\n",
              "      fill: #1967D2;\n",
              "      height: 32px;\n",
              "      padding: 0 0 0 0;\n",
              "      width: 32px;\n",
              "    }\n",
              "\n",
              "    .colab-df-convert:hover {\n",
              "      background-color: #E2EBFA;\n",
              "      box-shadow: 0px 1px 2px rgba(60, 64, 67, 0.3), 0px 1px 3px 1px rgba(60, 64, 67, 0.15);\n",
              "      fill: #174EA6;\n",
              "    }\n",
              "\n",
              "    [theme=dark] .colab-df-convert {\n",
              "      background-color: #3B4455;\n",
              "      fill: #D2E3FC;\n",
              "    }\n",
              "\n",
              "    [theme=dark] .colab-df-convert:hover {\n",
              "      background-color: #434B5C;\n",
              "      box-shadow: 0px 1px 3px 1px rgba(0, 0, 0, 0.15);\n",
              "      filter: drop-shadow(0px 1px 2px rgba(0, 0, 0, 0.3));\n",
              "      fill: #FFFFFF;\n",
              "    }\n",
              "  </style>\n",
              "\n",
              "      <script>\n",
              "        const buttonEl =\n",
              "          document.querySelector('#df-afdfbf65-ec31-4b30-9bb9-900c03c2a374 button.colab-df-convert');\n",
              "        buttonEl.style.display =\n",
              "          google.colab.kernel.accessAllowed ? 'block' : 'none';\n",
              "\n",
              "        async function convertToInteractive(key) {\n",
              "          const element = document.querySelector('#df-afdfbf65-ec31-4b30-9bb9-900c03c2a374');\n",
              "          const dataTable =\n",
              "            await google.colab.kernel.invokeFunction('convertToInteractive',\n",
              "                                                     [key], {});\n",
              "          if (!dataTable) return;\n",
              "\n",
              "          const docLinkHtml = 'Like what you see? Visit the ' +\n",
              "            '<a target=\"_blank\" href=https://colab.research.google.com/notebooks/data_table.ipynb>data table notebook</a>'\n",
              "            + ' to learn more about interactive tables.';\n",
              "          element.innerHTML = '';\n",
              "          dataTable['output_type'] = 'display_data';\n",
              "          await google.colab.output.renderOutput(dataTable, element);\n",
              "          const docLink = document.createElement('div');\n",
              "          docLink.innerHTML = docLinkHtml;\n",
              "          element.appendChild(docLink);\n",
              "        }\n",
              "      </script>\n",
              "    </div>\n",
              "  </div>\n",
              "  "
            ]
          },
          "metadata": {},
          "execution_count": 24
        }
      ]
    },
    {
      "cell_type": "markdown",
      "source": [
        "## Кодируем категориальные признаки"
      ],
      "metadata": {
        "id": "ilSpyk3ml3mt"
      }
    },
    {
      "cell_type": "code",
      "source": [
        "df.dtypes"
      ],
      "metadata": {
        "colab": {
          "base_uri": "https://localhost:8080/"
        },
        "id": "lwA8s3R7l7Rx",
        "outputId": "3d2c2883-04e4-46cb-c041-40a0eb0df6ac"
      },
      "execution_count": 25,
      "outputs": [
        {
          "output_type": "execute_result",
          "data": {
            "text/plain": [
              "business_id                    int64\n",
              "business_postal_code          object\n",
              "business_latitude            float64\n",
              "business_longitude           float64\n",
              "inspection_id                 object\n",
              "inspection_date               object\n",
              "inspection_score             float64\n",
              "inspection_type               object\n",
              "violation_id                  object\n",
              "risk_category                 object\n",
              "Neighborhoods (old)          float64\n",
              "Police Districts             float64\n",
              "Supervisor Districts         float64\n",
              "Fire Prevention Districts    float64\n",
              "Zip Codes                    float64\n",
              "Analysis Neighborhoods       float64\n",
              "dtype: object"
            ]
          },
          "metadata": {},
          "execution_count": 25
        }
      ]
    },
    {
      "cell_type": "code",
      "source": [
        "from sklearn.preprocessing import LabelEncoder, OneHotEncoder\n",
        "le = LabelEncoder()\n",
        "df_int = le.fit_transform(df['business_postal_code'])\n",
        "df['business_postal_code'] = df_int\n",
        "df_int = le.fit_transform(df['inspection_id'])\n",
        "df['inspection_id'] = df_int\n",
        "df_int = le.fit_transform(df['inspection_date'])\n",
        "df['inspection_date'] = df_int\n",
        "df_int = le.fit_transform(df['inspection_type'])\n",
        "df['inspection_type'] = df_int\n",
        "df_int = le.fit_transform(df['violation_id'])\n",
        "df['violation_id'] = df_int\n",
        "df_int = le.fit_transform(df['risk_category'])\n",
        "df['risk_category'] = df_int\n",
        "df.head()"
      ],
      "metadata": {
        "colab": {
          "base_uri": "https://localhost:8080/",
          "height": 305
        },
        "id": "lVWsOHsamAgJ",
        "outputId": "fbda34eb-6628-4cc9-bda0-e48ed6bf4564"
      },
      "execution_count": 27,
      "outputs": [
        {
          "output_type": "execute_result",
          "data": {
            "text/plain": [
              "     business_id  business_postal_code  business_latitude  business_longitude  \\\n",
              "11          4794                     5                 38                -122   \n",
              "172        63652                     1                 38                -122   \n",
              "327          328                    13                 38                -122   \n",
              "372         2684                    22                 38                -122   \n",
              "397          328                    13                 38                -122   \n",
              "\n",
              "     inspection_id  inspection_date  inspection_score  inspection_type  \\\n",
              "11             829              440                71                0   \n",
              "172           1335              604                94                0   \n",
              "327            564               28                81                0   \n",
              "372            405              576                87                0   \n",
              "397            564               28                81                0   \n",
              "\n",
              "     violation_id  risk_category  Neighborhoods (old)  Police Districts  \\\n",
              "11           2734              1                   34                 2   \n",
              "172          3895              2                    6                 1   \n",
              "327          1925              0                   41                 9   \n",
              "372          1406              0                   22                 7   \n",
              "397          1929              1                   41                 9   \n",
              "\n",
              "     Supervisor Districts  Fire Prevention Districts  Zip Codes  \\\n",
              "11                      9                          6      28856   \n",
              "172                    10                          5      28852   \n",
              "327                    11                         15      29490   \n",
              "372                     5                          2         63   \n",
              "397                    11                         15      29490   \n",
              "\n",
              "     Analysis Neighborhoods  \n",
              "11                       34  \n",
              "172                       8  \n",
              "327                      39  \n",
              "372                      22  \n",
              "397                      39  "
            ],
            "text/html": [
              "\n",
              "  <div id=\"df-3e8429f1-7fc8-416b-a2ca-a744f44ad4d8\">\n",
              "    <div class=\"colab-df-container\">\n",
              "      <div>\n",
              "<style scoped>\n",
              "    .dataframe tbody tr th:only-of-type {\n",
              "        vertical-align: middle;\n",
              "    }\n",
              "\n",
              "    .dataframe tbody tr th {\n",
              "        vertical-align: top;\n",
              "    }\n",
              "\n",
              "    .dataframe thead th {\n",
              "        text-align: right;\n",
              "    }\n",
              "</style>\n",
              "<table border=\"1\" class=\"dataframe\">\n",
              "  <thead>\n",
              "    <tr style=\"text-align: right;\">\n",
              "      <th></th>\n",
              "      <th>business_id</th>\n",
              "      <th>business_postal_code</th>\n",
              "      <th>business_latitude</th>\n",
              "      <th>business_longitude</th>\n",
              "      <th>inspection_id</th>\n",
              "      <th>inspection_date</th>\n",
              "      <th>inspection_score</th>\n",
              "      <th>inspection_type</th>\n",
              "      <th>violation_id</th>\n",
              "      <th>risk_category</th>\n",
              "      <th>Neighborhoods (old)</th>\n",
              "      <th>Police Districts</th>\n",
              "      <th>Supervisor Districts</th>\n",
              "      <th>Fire Prevention Districts</th>\n",
              "      <th>Zip Codes</th>\n",
              "      <th>Analysis Neighborhoods</th>\n",
              "    </tr>\n",
              "  </thead>\n",
              "  <tbody>\n",
              "    <tr>\n",
              "      <th>11</th>\n",
              "      <td>4794</td>\n",
              "      <td>5</td>\n",
              "      <td>38</td>\n",
              "      <td>-122</td>\n",
              "      <td>829</td>\n",
              "      <td>440</td>\n",
              "      <td>71</td>\n",
              "      <td>0</td>\n",
              "      <td>2734</td>\n",
              "      <td>1</td>\n",
              "      <td>34</td>\n",
              "      <td>2</td>\n",
              "      <td>9</td>\n",
              "      <td>6</td>\n",
              "      <td>28856</td>\n",
              "      <td>34</td>\n",
              "    </tr>\n",
              "    <tr>\n",
              "      <th>172</th>\n",
              "      <td>63652</td>\n",
              "      <td>1</td>\n",
              "      <td>38</td>\n",
              "      <td>-122</td>\n",
              "      <td>1335</td>\n",
              "      <td>604</td>\n",
              "      <td>94</td>\n",
              "      <td>0</td>\n",
              "      <td>3895</td>\n",
              "      <td>2</td>\n",
              "      <td>6</td>\n",
              "      <td>1</td>\n",
              "      <td>10</td>\n",
              "      <td>5</td>\n",
              "      <td>28852</td>\n",
              "      <td>8</td>\n",
              "    </tr>\n",
              "    <tr>\n",
              "      <th>327</th>\n",
              "      <td>328</td>\n",
              "      <td>13</td>\n",
              "      <td>38</td>\n",
              "      <td>-122</td>\n",
              "      <td>564</td>\n",
              "      <td>28</td>\n",
              "      <td>81</td>\n",
              "      <td>0</td>\n",
              "      <td>1925</td>\n",
              "      <td>0</td>\n",
              "      <td>41</td>\n",
              "      <td>9</td>\n",
              "      <td>11</td>\n",
              "      <td>15</td>\n",
              "      <td>29490</td>\n",
              "      <td>39</td>\n",
              "    </tr>\n",
              "    <tr>\n",
              "      <th>372</th>\n",
              "      <td>2684</td>\n",
              "      <td>22</td>\n",
              "      <td>38</td>\n",
              "      <td>-122</td>\n",
              "      <td>405</td>\n",
              "      <td>576</td>\n",
              "      <td>87</td>\n",
              "      <td>0</td>\n",
              "      <td>1406</td>\n",
              "      <td>0</td>\n",
              "      <td>22</td>\n",
              "      <td>7</td>\n",
              "      <td>5</td>\n",
              "      <td>2</td>\n",
              "      <td>63</td>\n",
              "      <td>22</td>\n",
              "    </tr>\n",
              "    <tr>\n",
              "      <th>397</th>\n",
              "      <td>328</td>\n",
              "      <td>13</td>\n",
              "      <td>38</td>\n",
              "      <td>-122</td>\n",
              "      <td>564</td>\n",
              "      <td>28</td>\n",
              "      <td>81</td>\n",
              "      <td>0</td>\n",
              "      <td>1929</td>\n",
              "      <td>1</td>\n",
              "      <td>41</td>\n",
              "      <td>9</td>\n",
              "      <td>11</td>\n",
              "      <td>15</td>\n",
              "      <td>29490</td>\n",
              "      <td>39</td>\n",
              "    </tr>\n",
              "  </tbody>\n",
              "</table>\n",
              "</div>\n",
              "      <button class=\"colab-df-convert\" onclick=\"convertToInteractive('df-3e8429f1-7fc8-416b-a2ca-a744f44ad4d8')\"\n",
              "              title=\"Convert this dataframe to an interactive table.\"\n",
              "              style=\"display:none;\">\n",
              "        \n",
              "  <svg xmlns=\"http://www.w3.org/2000/svg\" height=\"24px\"viewBox=\"0 0 24 24\"\n",
              "       width=\"24px\">\n",
              "    <path d=\"M0 0h24v24H0V0z\" fill=\"none\"/>\n",
              "    <path d=\"M18.56 5.44l.94 2.06.94-2.06 2.06-.94-2.06-.94-.94-2.06-.94 2.06-2.06.94zm-11 1L8.5 8.5l.94-2.06 2.06-.94-2.06-.94L8.5 2.5l-.94 2.06-2.06.94zm10 10l.94 2.06.94-2.06 2.06-.94-2.06-.94-.94-2.06-.94 2.06-2.06.94z\"/><path d=\"M17.41 7.96l-1.37-1.37c-.4-.4-.92-.59-1.43-.59-.52 0-1.04.2-1.43.59L10.3 9.45l-7.72 7.72c-.78.78-.78 2.05 0 2.83L4 21.41c.39.39.9.59 1.41.59.51 0 1.02-.2 1.41-.59l7.78-7.78 2.81-2.81c.8-.78.8-2.07 0-2.86zM5.41 20L4 18.59l7.72-7.72 1.47 1.35L5.41 20z\"/>\n",
              "  </svg>\n",
              "      </button>\n",
              "      \n",
              "  <style>\n",
              "    .colab-df-container {\n",
              "      display:flex;\n",
              "      flex-wrap:wrap;\n",
              "      gap: 12px;\n",
              "    }\n",
              "\n",
              "    .colab-df-convert {\n",
              "      background-color: #E8F0FE;\n",
              "      border: none;\n",
              "      border-radius: 50%;\n",
              "      cursor: pointer;\n",
              "      display: none;\n",
              "      fill: #1967D2;\n",
              "      height: 32px;\n",
              "      padding: 0 0 0 0;\n",
              "      width: 32px;\n",
              "    }\n",
              "\n",
              "    .colab-df-convert:hover {\n",
              "      background-color: #E2EBFA;\n",
              "      box-shadow: 0px 1px 2px rgba(60, 64, 67, 0.3), 0px 1px 3px 1px rgba(60, 64, 67, 0.15);\n",
              "      fill: #174EA6;\n",
              "    }\n",
              "\n",
              "    [theme=dark] .colab-df-convert {\n",
              "      background-color: #3B4455;\n",
              "      fill: #D2E3FC;\n",
              "    }\n",
              "\n",
              "    [theme=dark] .colab-df-convert:hover {\n",
              "      background-color: #434B5C;\n",
              "      box-shadow: 0px 1px 3px 1px rgba(0, 0, 0, 0.15);\n",
              "      filter: drop-shadow(0px 1px 2px rgba(0, 0, 0, 0.3));\n",
              "      fill: #FFFFFF;\n",
              "    }\n",
              "  </style>\n",
              "\n",
              "      <script>\n",
              "        const buttonEl =\n",
              "          document.querySelector('#df-3e8429f1-7fc8-416b-a2ca-a744f44ad4d8 button.colab-df-convert');\n",
              "        buttonEl.style.display =\n",
              "          google.colab.kernel.accessAllowed ? 'block' : 'none';\n",
              "\n",
              "        async function convertToInteractive(key) {\n",
              "          const element = document.querySelector('#df-3e8429f1-7fc8-416b-a2ca-a744f44ad4d8');\n",
              "          const dataTable =\n",
              "            await google.colab.kernel.invokeFunction('convertToInteractive',\n",
              "                                                     [key], {});\n",
              "          if (!dataTable) return;\n",
              "\n",
              "          const docLinkHtml = 'Like what you see? Visit the ' +\n",
              "            '<a target=\"_blank\" href=https://colab.research.google.com/notebooks/data_table.ipynb>data table notebook</a>'\n",
              "            + ' to learn more about interactive tables.';\n",
              "          element.innerHTML = '';\n",
              "          dataTable['output_type'] = 'display_data';\n",
              "          await google.colab.output.renderOutput(dataTable, element);\n",
              "          const docLink = document.createElement('div');\n",
              "          docLink.innerHTML = docLinkHtml;\n",
              "          element.appendChild(docLink);\n",
              "        }\n",
              "      </script>\n",
              "    </div>\n",
              "  </div>\n",
              "  "
            ]
          },
          "metadata": {},
          "execution_count": 27
        }
      ]
    },
    {
      "cell_type": "markdown",
      "source": [
        "## Масштабируем числовые данные"
      ],
      "metadata": {
        "id": "cqevcJ93mNFX"
      }
    },
    {
      "cell_type": "code",
      "source": [
        "from sklearn.preprocessing import MinMaxScaler"
      ],
      "metadata": {
        "id": "1XY-0LOomkTA"
      },
      "execution_count": 29,
      "outputs": []
    },
    {
      "cell_type": "code",
      "source": [
        "sc1 = MinMaxScaler()\n",
        "df['business_id'] = sc1.fit_transform(df[['business_id']])\n",
        "df['business_latitude'] = sc1.fit_transform(df[['business_latitude']])\n",
        "df['business_longitude'] = sc1.fit_transform(df[['business_longitude']])\n",
        "df['inspection_score'] = sc1.fit_transform(df[['inspection_score']])\n",
        "df['Neighborhoods (old)'] = sc1.fit_transform(df[['Neighborhoods (old)']])\n",
        "df['Police Districts'] = sc1.fit_transform(df[['Police Districts']])\n",
        "df['Supervisor Districts'] = sc1.fit_transform(df[['Supervisor Districts']])\n",
        "df['Fire Prevention Districts'] = sc1.fit_transform(df[['Fire Prevention Districts']])\n",
        "df['Zip Codes'] = sc1.fit_transform(df[['Zip Codes']])\n",
        "df['Analysis Neighborhoods'] = sc1.fit_transform(df[['Analysis Neighborhoods']])\n",
        "df.head()"
      ],
      "metadata": {
        "colab": {
          "base_uri": "https://localhost:8080/",
          "height": 305
        },
        "id": "5m-IVbMDmPFH",
        "outputId": "2f291edd-e2b6-4e4a-b64a-bd9a8ff0fe6b"
      },
      "execution_count": 30,
      "outputs": [
        {
          "output_type": "execute_result",
          "data": {
            "text/plain": [
              "     business_id  business_postal_code  business_latitude  business_longitude  \\\n",
              "11             0                     5                  1                   1   \n",
              "172            1                     1                  1                   1   \n",
              "327            0                    13                  1                   1   \n",
              "372            0                    22                  0                   1   \n",
              "397            0                    13                  1                   1   \n",
              "\n",
              "     inspection_id  inspection_date  inspection_score  inspection_type  \\\n",
              "11             829              440                 0                0   \n",
              "172           1335              604                 1                0   \n",
              "327            564               28                 1                0   \n",
              "372            405              576                 1                0   \n",
              "397            564               28                 1                0   \n",
              "\n",
              "     violation_id  risk_category  Neighborhoods (old)  Police Districts  \\\n",
              "11           2734              1                    1                 0   \n",
              "172          3895              2                    0                 0   \n",
              "327          1925              0                    1                 1   \n",
              "372          1406              0                    1                 1   \n",
              "397          1929              1                    1                 1   \n",
              "\n",
              "     Supervisor Districts  Fire Prevention Districts  Zip Codes  \\\n",
              "11                      1                          0          1   \n",
              "172                     1                          0          1   \n",
              "327                     1                          1          1   \n",
              "372                     0                          0          0   \n",
              "397                     1                          1          1   \n",
              "\n",
              "     Analysis Neighborhoods  \n",
              "11                        1  \n",
              "172                       0  \n",
              "327                       1  \n",
              "372                       1  \n",
              "397                       1  "
            ],
            "text/html": [
              "\n",
              "  <div id=\"df-328d45e5-ba79-4552-8911-0c7c82824dc3\">\n",
              "    <div class=\"colab-df-container\">\n",
              "      <div>\n",
              "<style scoped>\n",
              "    .dataframe tbody tr th:only-of-type {\n",
              "        vertical-align: middle;\n",
              "    }\n",
              "\n",
              "    .dataframe tbody tr th {\n",
              "        vertical-align: top;\n",
              "    }\n",
              "\n",
              "    .dataframe thead th {\n",
              "        text-align: right;\n",
              "    }\n",
              "</style>\n",
              "<table border=\"1\" class=\"dataframe\">\n",
              "  <thead>\n",
              "    <tr style=\"text-align: right;\">\n",
              "      <th></th>\n",
              "      <th>business_id</th>\n",
              "      <th>business_postal_code</th>\n",
              "      <th>business_latitude</th>\n",
              "      <th>business_longitude</th>\n",
              "      <th>inspection_id</th>\n",
              "      <th>inspection_date</th>\n",
              "      <th>inspection_score</th>\n",
              "      <th>inspection_type</th>\n",
              "      <th>violation_id</th>\n",
              "      <th>risk_category</th>\n",
              "      <th>Neighborhoods (old)</th>\n",
              "      <th>Police Districts</th>\n",
              "      <th>Supervisor Districts</th>\n",
              "      <th>Fire Prevention Districts</th>\n",
              "      <th>Zip Codes</th>\n",
              "      <th>Analysis Neighborhoods</th>\n",
              "    </tr>\n",
              "  </thead>\n",
              "  <tbody>\n",
              "    <tr>\n",
              "      <th>11</th>\n",
              "      <td>0</td>\n",
              "      <td>5</td>\n",
              "      <td>1</td>\n",
              "      <td>1</td>\n",
              "      <td>829</td>\n",
              "      <td>440</td>\n",
              "      <td>0</td>\n",
              "      <td>0</td>\n",
              "      <td>2734</td>\n",
              "      <td>1</td>\n",
              "      <td>1</td>\n",
              "      <td>0</td>\n",
              "      <td>1</td>\n",
              "      <td>0</td>\n",
              "      <td>1</td>\n",
              "      <td>1</td>\n",
              "    </tr>\n",
              "    <tr>\n",
              "      <th>172</th>\n",
              "      <td>1</td>\n",
              "      <td>1</td>\n",
              "      <td>1</td>\n",
              "      <td>1</td>\n",
              "      <td>1335</td>\n",
              "      <td>604</td>\n",
              "      <td>1</td>\n",
              "      <td>0</td>\n",
              "      <td>3895</td>\n",
              "      <td>2</td>\n",
              "      <td>0</td>\n",
              "      <td>0</td>\n",
              "      <td>1</td>\n",
              "      <td>0</td>\n",
              "      <td>1</td>\n",
              "      <td>0</td>\n",
              "    </tr>\n",
              "    <tr>\n",
              "      <th>327</th>\n",
              "      <td>0</td>\n",
              "      <td>13</td>\n",
              "      <td>1</td>\n",
              "      <td>1</td>\n",
              "      <td>564</td>\n",
              "      <td>28</td>\n",
              "      <td>1</td>\n",
              "      <td>0</td>\n",
              "      <td>1925</td>\n",
              "      <td>0</td>\n",
              "      <td>1</td>\n",
              "      <td>1</td>\n",
              "      <td>1</td>\n",
              "      <td>1</td>\n",
              "      <td>1</td>\n",
              "      <td>1</td>\n",
              "    </tr>\n",
              "    <tr>\n",
              "      <th>372</th>\n",
              "      <td>0</td>\n",
              "      <td>22</td>\n",
              "      <td>0</td>\n",
              "      <td>1</td>\n",
              "      <td>405</td>\n",
              "      <td>576</td>\n",
              "      <td>1</td>\n",
              "      <td>0</td>\n",
              "      <td>1406</td>\n",
              "      <td>0</td>\n",
              "      <td>1</td>\n",
              "      <td>1</td>\n",
              "      <td>0</td>\n",
              "      <td>0</td>\n",
              "      <td>0</td>\n",
              "      <td>1</td>\n",
              "    </tr>\n",
              "    <tr>\n",
              "      <th>397</th>\n",
              "      <td>0</td>\n",
              "      <td>13</td>\n",
              "      <td>1</td>\n",
              "      <td>1</td>\n",
              "      <td>564</td>\n",
              "      <td>28</td>\n",
              "      <td>1</td>\n",
              "      <td>0</td>\n",
              "      <td>1929</td>\n",
              "      <td>1</td>\n",
              "      <td>1</td>\n",
              "      <td>1</td>\n",
              "      <td>1</td>\n",
              "      <td>1</td>\n",
              "      <td>1</td>\n",
              "      <td>1</td>\n",
              "    </tr>\n",
              "  </tbody>\n",
              "</table>\n",
              "</div>\n",
              "      <button class=\"colab-df-convert\" onclick=\"convertToInteractive('df-328d45e5-ba79-4552-8911-0c7c82824dc3')\"\n",
              "              title=\"Convert this dataframe to an interactive table.\"\n",
              "              style=\"display:none;\">\n",
              "        \n",
              "  <svg xmlns=\"http://www.w3.org/2000/svg\" height=\"24px\"viewBox=\"0 0 24 24\"\n",
              "       width=\"24px\">\n",
              "    <path d=\"M0 0h24v24H0V0z\" fill=\"none\"/>\n",
              "    <path d=\"M18.56 5.44l.94 2.06.94-2.06 2.06-.94-2.06-.94-.94-2.06-.94 2.06-2.06.94zm-11 1L8.5 8.5l.94-2.06 2.06-.94-2.06-.94L8.5 2.5l-.94 2.06-2.06.94zm10 10l.94 2.06.94-2.06 2.06-.94-2.06-.94-.94-2.06-.94 2.06-2.06.94z\"/><path d=\"M17.41 7.96l-1.37-1.37c-.4-.4-.92-.59-1.43-.59-.52 0-1.04.2-1.43.59L10.3 9.45l-7.72 7.72c-.78.78-.78 2.05 0 2.83L4 21.41c.39.39.9.59 1.41.59.51 0 1.02-.2 1.41-.59l7.78-7.78 2.81-2.81c.8-.78.8-2.07 0-2.86zM5.41 20L4 18.59l7.72-7.72 1.47 1.35L5.41 20z\"/>\n",
              "  </svg>\n",
              "      </button>\n",
              "      \n",
              "  <style>\n",
              "    .colab-df-container {\n",
              "      display:flex;\n",
              "      flex-wrap:wrap;\n",
              "      gap: 12px;\n",
              "    }\n",
              "\n",
              "    .colab-df-convert {\n",
              "      background-color: #E8F0FE;\n",
              "      border: none;\n",
              "      border-radius: 50%;\n",
              "      cursor: pointer;\n",
              "      display: none;\n",
              "      fill: #1967D2;\n",
              "      height: 32px;\n",
              "      padding: 0 0 0 0;\n",
              "      width: 32px;\n",
              "    }\n",
              "\n",
              "    .colab-df-convert:hover {\n",
              "      background-color: #E2EBFA;\n",
              "      box-shadow: 0px 1px 2px rgba(60, 64, 67, 0.3), 0px 1px 3px 1px rgba(60, 64, 67, 0.15);\n",
              "      fill: #174EA6;\n",
              "    }\n",
              "\n",
              "    [theme=dark] .colab-df-convert {\n",
              "      background-color: #3B4455;\n",
              "      fill: #D2E3FC;\n",
              "    }\n",
              "\n",
              "    [theme=dark] .colab-df-convert:hover {\n",
              "      background-color: #434B5C;\n",
              "      box-shadow: 0px 1px 3px 1px rgba(0, 0, 0, 0.15);\n",
              "      filter: drop-shadow(0px 1px 2px rgba(0, 0, 0, 0.3));\n",
              "      fill: #FFFFFF;\n",
              "    }\n",
              "  </style>\n",
              "\n",
              "      <script>\n",
              "        const buttonEl =\n",
              "          document.querySelector('#df-328d45e5-ba79-4552-8911-0c7c82824dc3 button.colab-df-convert');\n",
              "        buttonEl.style.display =\n",
              "          google.colab.kernel.accessAllowed ? 'block' : 'none';\n",
              "\n",
              "        async function convertToInteractive(key) {\n",
              "          const element = document.querySelector('#df-328d45e5-ba79-4552-8911-0c7c82824dc3');\n",
              "          const dataTable =\n",
              "            await google.colab.kernel.invokeFunction('convertToInteractive',\n",
              "                                                     [key], {});\n",
              "          if (!dataTable) return;\n",
              "\n",
              "          const docLinkHtml = 'Like what you see? Visit the ' +\n",
              "            '<a target=\"_blank\" href=https://colab.research.google.com/notebooks/data_table.ipynb>data table notebook</a>'\n",
              "            + ' to learn more about interactive tables.';\n",
              "          element.innerHTML = '';\n",
              "          dataTable['output_type'] = 'display_data';\n",
              "          await google.colab.output.renderOutput(dataTable, element);\n",
              "          const docLink = document.createElement('div');\n",
              "          docLink.innerHTML = docLinkHtml;\n",
              "          element.appendChild(docLink);\n",
              "        }\n",
              "      </script>\n",
              "    </div>\n",
              "  </div>\n",
              "  "
            ]
          },
          "metadata": {},
          "execution_count": 30
        }
      ]
    },
    {
      "cell_type": "markdown",
      "source": [
        "## Делим выборку на обучающую и тестовую"
      ],
      "metadata": {
        "id": "V8hGMefOmwhM"
      }
    },
    {
      "cell_type": "code",
      "source": [
        "target = df['risk_category']\n",
        "data_X_train, data_X_test, data_y_train, data_y_test = train_test_split(\n",
        "    df, target, test_size=0.2, random_state=1)"
      ],
      "metadata": {
        "id": "VT-PKWoZnR3P"
      },
      "execution_count": 32,
      "outputs": []
    },
    {
      "cell_type": "code",
      "source": [
        "data_X_train.shape, data_y_train.shape"
      ],
      "metadata": {
        "colab": {
          "base_uri": "https://localhost:8080/"
        },
        "id": "9zUnNGYxnWMD",
        "outputId": "a937627e-fed0-4678-d068-7f7745b2c7b3"
      },
      "execution_count": 33,
      "outputs": [
        {
          "output_type": "execute_result",
          "data": {
            "text/plain": [
              "((5252, 16), (5252,))"
            ]
          },
          "metadata": {},
          "execution_count": 33
        }
      ]
    },
    {
      "cell_type": "code",
      "source": [
        "data_X_test.shape, data_y_test.shape"
      ],
      "metadata": {
        "colab": {
          "base_uri": "https://localhost:8080/"
        },
        "id": "uvH2U2FsnZZ1",
        "outputId": "7bcb6a5d-8338-4421-f2e1-cb68d7474ed3"
      },
      "execution_count": 34,
      "outputs": [
        {
          "output_type": "execute_result",
          "data": {
            "text/plain": [
              "((1314, 16), (1314,))"
            ]
          },
          "metadata": {},
          "execution_count": 34
        }
      ]
    },
    {
      "cell_type": "code",
      "source": [
        "np.unique(target)"
      ],
      "metadata": {
        "colab": {
          "base_uri": "https://localhost:8080/"
        },
        "id": "sSAAnC97nbdd",
        "outputId": "33a02dfa-78ef-4d7e-cde1-1c9a52ed0ad1"
      },
      "execution_count": 35,
      "outputs": [
        {
          "output_type": "execute_result",
          "data": {
            "text/plain": [
              "array([0, 1, 2])"
            ]
          },
          "metadata": {},
          "execution_count": 35
        }
      ]
    },
    {
      "cell_type": "markdown",
      "source": [
        "## Градиентный бустинг"
      ],
      "metadata": {
        "id": "L7nDdty0n5dm"
      }
    },
    {
      "cell_type": "code",
      "source": [
        "from sklearn.ensemble import AdaBoostClassifier\n",
        "from sklearn.metrics import accuracy_score, balanced_accuracy_score\n",
        "from sklearn.metrics import precision_score, recall_score, f1_score, classification_report\n",
        "from sklearn.metrics import r2_score, mean_squared_error, mean_absolute_error"
      ],
      "metadata": {
        "id": "juMyu2aqoIqs"
      },
      "execution_count": 72,
      "outputs": []
    },
    {
      "cell_type": "code",
      "source": [
        "ab1 = AdaBoostClassifier()\n",
        "ab1.fit(data_X_train, data_y_train)"
      ],
      "metadata": {
        "colab": {
          "base_uri": "https://localhost:8080/"
        },
        "id": "nUjtwbGyoDNY",
        "outputId": "9d8e024b-ec44-42d4-e82f-1cbfca9301e7"
      },
      "execution_count": 38,
      "outputs": [
        {
          "output_type": "execute_result",
          "data": {
            "text/plain": [
              "AdaBoostClassifier()"
            ]
          },
          "metadata": {},
          "execution_count": 38
        }
      ]
    },
    {
      "cell_type": "code",
      "source": [
        "data_y_pred_1 = ab1.predict(data_X_test)"
      ],
      "metadata": {
        "id": "OiZuh_VSoLeB"
      },
      "execution_count": 39,
      "outputs": []
    },
    {
      "cell_type": "code",
      "source": [
        "data_y_pred_1_0 = ab1.predict(data_X_train)"
      ],
      "metadata": {
        "id": "EDyPs9nfoP-e"
      },
      "execution_count": 40,
      "outputs": []
    },
    {
      "cell_type": "code",
      "source": [
        "accuracy_score(data_y_train, data_y_pred_1_0)"
      ],
      "metadata": {
        "colab": {
          "base_uri": "https://localhost:8080/"
        },
        "id": "Z1gZA1ZpoRya",
        "outputId": "3620f6ac-8502-44e4-80d3-f332cd6c1301"
      },
      "execution_count": 43,
      "outputs": [
        {
          "output_type": "execute_result",
          "data": {
            "text/plain": [
              "1.0"
            ]
          },
          "metadata": {},
          "execution_count": 43
        }
      ]
    },
    {
      "cell_type": "code",
      "source": [
        "accuracy_score(data_y_test, data_y_pred_1)"
      ],
      "metadata": {
        "colab": {
          "base_uri": "https://localhost:8080/"
        },
        "id": "qBAvnYTEpYv4",
        "outputId": "c944bb40-19af-40ea-957d-402b39c3858a"
      },
      "execution_count": 44,
      "outputs": [
        {
          "output_type": "execute_result",
          "data": {
            "text/plain": [
              "1.0"
            ]
          },
          "metadata": {},
          "execution_count": 44
        }
      ]
    },
    {
      "cell_type": "code",
      "source": [
        "\n",
        "f1_score(data_y_test, data_y_pred_1, average='micro')"
      ],
      "metadata": {
        "colab": {
          "base_uri": "https://localhost:8080/"
        },
        "id": "zatfGTuhpbog",
        "outputId": "c08fb930-6756-416c-bf5d-3d9e3d22df7e"
      },
      "execution_count": 47,
      "outputs": [
        {
          "output_type": "execute_result",
          "data": {
            "text/plain": [
              "1.0"
            ]
          },
          "metadata": {},
          "execution_count": 47
        }
      ]
    },
    {
      "cell_type": "code",
      "source": [
        "f1_score(data_y_test, data_y_pred_1, average='macro')"
      ],
      "metadata": {
        "colab": {
          "base_uri": "https://localhost:8080/"
        },
        "id": "8wm8ulWvpkT0",
        "outputId": "c61536ed-34f0-4eea-e0ac-2b38c7f493ae"
      },
      "execution_count": 48,
      "outputs": [
        {
          "output_type": "execute_result",
          "data": {
            "text/plain": [
              "1.0"
            ]
          },
          "metadata": {},
          "execution_count": 48
        }
      ]
    },
    {
      "cell_type": "code",
      "source": [
        "\n",
        "f1_score(data_y_train, data_y_pred_1_0, average='weighted')"
      ],
      "metadata": {
        "colab": {
          "base_uri": "https://localhost:8080/"
        },
        "id": "MxSK6OdWpnVw",
        "outputId": "b3065eeb-8ee2-4ace-d24e-33bea1f51afa"
      },
      "execution_count": 76,
      "outputs": [
        {
          "output_type": "execute_result",
          "data": {
            "text/plain": [
              "1.0"
            ]
          },
          "metadata": {},
          "execution_count": 76
        }
      ]
    },
    {
      "cell_type": "code",
      "source": [
        "def print_metrics(y_test, y_pred):\n",
        "    print(f\"R^2: {r2_score(y_test, y_pred)}\")\n",
        "    print(f\"RMSE: {mean_squared_error(y_test, y_pred)}\")\n",
        "    print(f\"MAE: {mean_absolute_error(y_test, y_pred)}\")"
      ],
      "metadata": {
        "id": "xO7Errk6tXs9"
      },
      "execution_count": 74,
      "outputs": []
    },
    {
      "cell_type": "code",
      "source": [
        "print_metrics(data_y_train, data_y_pred_1_0)"
      ],
      "metadata": {
        "colab": {
          "base_uri": "https://localhost:8080/"
        },
        "id": "6WtqCgv-tdoQ",
        "outputId": "3bd4fe04-626c-426e-9fd9-365155316f2c"
      },
      "execution_count": 77,
      "outputs": [
        {
          "output_type": "stream",
          "name": "stdout",
          "text": [
            "R^2: 1.0\n",
            "RMSE: 0.0\n",
            "MAE: 0.0\n"
          ]
        }
      ]
    },
    {
      "cell_type": "markdown",
      "source": [
        "## Дерево решений"
      ],
      "metadata": {
        "id": "w9_2_LlYpx9a"
      }
    },
    {
      "cell_type": "code",
      "source": [
        "from sklearn.tree import DecisionTreeRegressor"
      ],
      "metadata": {
        "id": "FgcrfXO9p1uo"
      },
      "execution_count": 50,
      "outputs": []
    },
    {
      "cell_type": "code",
      "source": [
        "def stat_tree(estimator):\n",
        "    n_nodes = estimator.tree_.node_count\n",
        "    children_left = estimator.tree_.children_left\n",
        "    children_right = estimator.tree_.children_right\n",
        "\n",
        "    node_depth = np.zeros(shape=n_nodes, dtype=np.int64)\n",
        "    is_leaves = np.zeros(shape=n_nodes, dtype=bool)\n",
        "    stack = [(0, -1)]  # seed is the root node id and its parent depth\n",
        "    while len(stack) > 0:\n",
        "        node_id, parent_depth = stack.pop()\n",
        "        node_depth[node_id] = parent_depth + 1\n",
        "\n",
        "        # If we have a test node\n",
        "        if (children_left[node_id] != children_right[node_id]):\n",
        "            stack.append((children_left[node_id], parent_depth + 1))\n",
        "            stack.append((children_right[node_id], parent_depth + 1))\n",
        "        else:\n",
        "            is_leaves[node_id] = True\n",
        "\n",
        "    print(\"Всего узлов:\", n_nodes)\n",
        "    print(\"Листовых узлов:\", sum(is_leaves))\n",
        "    print(\"Глубина дерева:\", max(node_depth))\n",
        "    print(\"Минимальная глубина листьев дерева:\", min(node_depth[is_leaves]))\n",
        "    print(\"Средняя глубина листьев дерева:\", node_depth[is_leaves].mean())"
      ],
      "metadata": {
        "id": "ty_ErhLJp4Jd"
      },
      "execution_count": 51,
      "outputs": []
    },
    {
      "cell_type": "markdown",
      "source": [
        "Построим модель дерева с глубиной = 3"
      ],
      "metadata": {
        "id": "REcLoMwTp7tq"
      }
    },
    {
      "cell_type": "code",
      "source": [
        "regr5 = DecisionTreeRegressor(max_depth=3)\n",
        "model5 = regr5.fit(data_X_train, data_y_train)"
      ],
      "metadata": {
        "id": "GmWI_z1wp6vH"
      },
      "execution_count": 58,
      "outputs": []
    },
    {
      "cell_type": "code",
      "source": [
        "data_y_pred_2 = model5.predict(data_X_test)"
      ],
      "metadata": {
        "id": "Jm0iwjl0sNCn"
      },
      "execution_count": 78,
      "outputs": []
    },
    {
      "cell_type": "markdown",
      "source": [
        "Выведем основную статистику для дерева:"
      ],
      "metadata": {
        "id": "IogRDoLUqK4e"
      }
    },
    {
      "cell_type": "code",
      "source": [
        "stat_tree(model5)"
      ],
      "metadata": {
        "colab": {
          "base_uri": "https://localhost:8080/"
        },
        "id": "psVyewYCqLOd",
        "outputId": "74b426ef-0ab3-4f7c-c874-8547bd2e15bd"
      },
      "execution_count": 59,
      "outputs": [
        {
          "output_type": "stream",
          "name": "stdout",
          "text": [
            "Всего узлов: 5\n",
            "Листовых узлов: 3\n",
            "Глубина дерева: 2\n",
            "Минимальная глубина листьев дерева: 1\n",
            "Средняя глубина листьев дерева: 1.6666666666666667\n"
          ]
        }
      ]
    },
    {
      "cell_type": "markdown",
      "source": [
        "### График важности признаков:"
      ],
      "metadata": {
        "id": "8v1d66iIr9fT"
      }
    },
    {
      "cell_type": "code",
      "source": [
        "from operator import itemgetter\n",
        "\n",
        "def draw_feature_importances(tree_model, X_dataset, figsize=(18,5)):\n",
        "    \"\"\"\n",
        "    Вывод важности признаков в виде графика\n",
        "    \"\"\"\n",
        "    # Сортировка значений важности признаков по убыванию\n",
        "    list_to_sort = list(zip(X_dataset.columns.values, tree_model.feature_importances_))\n",
        "    sorted_list = sorted(list_to_sort, key=itemgetter(1), reverse = True)\n",
        "    # Названия признаков\n",
        "    labels = [x for x,_ in sorted_list]\n",
        "    # Важности признаков\n",
        "    data = [x for _,x in sorted_list]\n",
        "    # Вывод графика\n",
        "    fig, ax = plt.subplots(figsize=figsize)\n",
        "    ind = np.arange(len(labels))\n",
        "    plt.bar(ind, data)\n",
        "    plt.xticks(ind, labels, rotation='vertical')\n",
        "    # Вывод значений\n",
        "    for a,b in zip(ind, data):\n",
        "        plt.text(a-0.05, b+0.01, str(round(b,3)))\n",
        "    plt.show()\n",
        "    return labels, data"
      ],
      "metadata": {
        "id": "gzqm_D7UrzyQ"
      },
      "execution_count": 63,
      "outputs": []
    },
    {
      "cell_type": "code",
      "source": [
        "list(zip(df.columns.values, model5.feature_importances_))"
      ],
      "metadata": {
        "colab": {
          "base_uri": "https://localhost:8080/"
        },
        "id": "F85HEIorqxnx",
        "outputId": "2aa0da67-459d-4064-abb5-864963ef6d62"
      },
      "execution_count": 64,
      "outputs": [
        {
          "output_type": "execute_result",
          "data": {
            "text/plain": [
              "[('business_id', 0.0),\n",
              " ('business_postal_code', 0.0),\n",
              " ('business_latitude', 0.0),\n",
              " ('business_longitude', 0.0),\n",
              " ('inspection_id', 0.0),\n",
              " ('inspection_date', 0.0),\n",
              " ('inspection_score', 0.0),\n",
              " ('inspection_type', 0.0),\n",
              " ('violation_id', 0.0),\n",
              " ('risk_category', 1.0),\n",
              " ('Neighborhoods (old)', 0.0),\n",
              " ('Police Districts', 0.0),\n",
              " ('Supervisor Districts', 0.0),\n",
              " ('Fire Prevention Districts', 0.0),\n",
              " ('Zip Codes', 0.0),\n",
              " ('Analysis Neighborhoods', 0.0)]"
            ]
          },
          "metadata": {},
          "execution_count": 64
        }
      ]
    },
    {
      "cell_type": "code",
      "source": [
        "car_tree_cl_fl_1, car_tree_cl_fd_1 = draw_feature_importances(model5, df)"
      ],
      "metadata": {
        "colab": {
          "base_uri": "https://localhost:8080/",
          "height": 430
        },
        "id": "qf1wLxhNr6wY",
        "outputId": "d28701dd-842d-40c6-af84-e6f7be694eb4"
      },
      "execution_count": 65,
      "outputs": [
        {
          "output_type": "display_data",
          "data": {
            "text/plain": [
              "<Figure size 1296x360 with 1 Axes>"
            ],
            "image/png": "[encoded data removed]"
          },
          "metadata": {
            "needs_background": "light"
          }
        }
      ]
    },
    {
      "cell_type": "code",
      "source": [
        "accuracy_score(data_y_test, data_y_pred_1)"
      ],
      "metadata": {
        "colab": {
          "base_uri": "https://localhost:8080/"
        },
        "id": "g-s-dmqLsVXA",
        "outputId": "bccbe580-0c5b-41b8-d5f6-7821dfaf2172"
      },
      "execution_count": 67,
      "outputs": [
        {
          "output_type": "execute_result",
          "data": {
            "text/plain": [
              "1.0"
            ]
          },
          "metadata": {},
          "execution_count": 67
        }
      ]
    },
    {
      "cell_type": "code",
      "source": [
        "\n",
        "f1_score(data_y_test, data_y_pred_2, average='micro')"
      ],
      "metadata": {
        "colab": {
          "base_uri": "https://localhost:8080/"
        },
        "id": "H3rT7ZjCscep",
        "outputId": "3d8597af-547e-42a4-cddb-365ba51cff18"
      },
      "execution_count": 79,
      "outputs": [
        {
          "output_type": "execute_result",
          "data": {
            "text/plain": [
              "1.0"
            ]
          },
          "metadata": {},
          "execution_count": 79
        }
      ]
    },
    {
      "cell_type": "code",
      "source": [
        "\n",
        "f1_score(data_y_test, data_y_pred_2, average='macro')"
      ],
      "metadata": {
        "colab": {
          "base_uri": "https://localhost:8080/"
        },
        "id": "myWEEShVsekX",
        "outputId": "5dd08109-3f03-4ea4-9caa-95f21831bd17"
      },
      "execution_count": 80,
      "outputs": [
        {
          "output_type": "execute_result",
          "data": {
            "text/plain": [
              "1.0"
            ]
          },
          "metadata": {},
          "execution_count": 80
        }
      ]
    },
    {
      "cell_type": "code",
      "source": [
        "f1_score(data_y_test, data_y_pred_2, average='weighted')"
      ],
      "metadata": {
        "colab": {
          "base_uri": "https://localhost:8080/"
        },
        "id": "H9cMEDJ8srB1",
        "outputId": "e41e362a-613b-4291-d989-62f7f44b919c"
      },
      "execution_count": 81,
      "outputs": [
        {
          "output_type": "execute_result",
          "data": {
            "text/plain": [
              "1.0"
            ]
          },
          "metadata": {},
          "execution_count": 81
        }
      ]
    },
    {
      "cell_type": "code",
      "source": [
        "print_metrics(data_y_test, data_y_pred_2)"
      ],
      "metadata": {
        "colab": {
          "base_uri": "https://localhost:8080/"
        },
        "id": "4HHBS8Kesuwu",
        "outputId": "71a47492-4cf5-482e-f08e-542663e847d5"
      },
      "execution_count": 82,
      "outputs": [
        {
          "output_type": "stream",
          "name": "stdout",
          "text": [
            "R^2: 1.0\n",
            "RMSE: 0.0\n",
            "MAE: 0.0\n"
          ]
        }
      ]
    }
  ]
}