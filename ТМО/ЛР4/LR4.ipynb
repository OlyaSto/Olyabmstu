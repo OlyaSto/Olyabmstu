{
  "nbformat": 4,
  "nbformat_minor": 0,
  "metadata": {
    "colab": {
      "name": "LR4.ipynb",
      "provenance": [],
      "collapsed_sections": [],
      "authorship_tag": "ABX9TyPH024NP/ag/i4M4044kjWm",
      "include_colab_link": true
    },
    "kernelspec": {
      "name": "python3",
      "display_name": "Python 3"
    },
    "language_info": {
      "name": "python"
    }
  },
  "cells": [
    {
      "cell_type": "markdown",
      "metadata": {
        "id": "view-in-github",
        "colab_type": "text"
      },
      "source": [
        "<a href=\"https://colab.research.google.com/github/OlyaSto/Olyabmstu/blob/master/%D0%A2%D0%9C%D0%9E/%D0%9B%D0%A04/LR4.ipynb\" target=\"_parent\"><img src=\"https://colab.research.google.com/assets/colab-badge.svg\" alt=\"Open In Colab\"/></a>"
      ]
    },
    {
      "cell_type": "markdown",
      "source": [
        "## Лабораторная работа №4"
      ],
      "metadata": {
        "id": "drs3ksr5_ojI"
      }
    },
    {
      "cell_type": "markdown",
      "source": [
        "Цель лабораторной работы: изучение линейных моделей, SVM и деревьев решений."
      ],
      "metadata": {
        "id": "8DvzjW2H_4so"
      }
    },
    {
      "cell_type": "markdown",
      "source": [
        "1. Выберите набор данных (датасет) для решения задачи классификации или регрессии.\n",
        "2. В случае необходимости проведите удаление или заполнение пропусков и кодирование категориальных признаков.\n",
        "3. С использованием метода train_test_split разделите выборку на обучающую и тестовую.\n",
        "4. Обучите следующие модели: \n",
        "*   одну из линейных моделей (линейную или полиномиальную регрессию при решении\n",
        "задачи регрессии, логистическую регрессию при решении задачи классификации);\n",
        "*   SVM;\n",
        "*  дерево решений.\n",
        "5. Оцените качество моделей с помощью двух подходящих для задачи метрик. Сравните качество полученных моделей.\n",
        "6. Постройте график, показывающий важность признаков в дереве решений.\n",
        "7. Визуализируйте дерево решений или выведите правила дерева решений в текстовом виде."
      ],
      "metadata": {
        "id": "5AE8-CmuAGWJ"
      }
    },
    {
      "cell_type": "markdown",
      "source": [
        "## Импорт библиотек"
      ],
      "metadata": {
        "id": "FCBn4jRGAzFC"
      }
    },
    {
      "cell_type": "code",
      "execution_count": 1,
      "metadata": {
        "id": "zyybtCqc-HAy"
      },
      "outputs": [],
      "source": [
        "import numpy as np\n",
        "import pandas as pd\n",
        "import seaborn as sns\n",
        "import matplotlib.pyplot as plt\n",
        "%matplotlib inline\n",
        "sns.set(style=\"ticks\")"
      ]
    },
    {
      "cell_type": "markdown",
      "source": [
        "## Загрузка данных"
      ],
      "metadata": {
        "id": "p5r7UxpyA9pi"
      }
    },
    {
      "cell_type": "markdown",
      "source": [
        "Монтирование Google Drive для получения доступа к данным, лежащим на нем:"
      ],
      "metadata": {
        "id": "5vjvWwX5BCcW"
      }
    },
    {
      "cell_type": "code",
      "source": [
        "from google.colab import drive\n",
        "drive.mount('/content/drive')"
      ],
      "metadata": {
        "colab": {
          "base_uri": "https://localhost:8080/"
        },
        "id": "9qGEOnAVBKGc",
        "outputId": "349b120e-b301-4abd-d798-40a13b24b30d"
      },
      "execution_count": 2,
      "outputs": [
        {
          "output_type": "stream",
          "name": "stdout",
          "text": [
            "Mounted at /content/drive\n"
          ]
        }
      ]
    },
    {
      "cell_type": "markdown",
      "source": [
        "Загрузка данных:"
      ],
      "metadata": {
        "id": "V8WQ8huvBSGn"
      }
    },
    {
      "cell_type": "code",
      "source": [
        "filename = '/content/drive/MyDrive/ford.csv'"
      ],
      "metadata": {
        "id": "CvchiZ4IBS3X"
      },
      "execution_count": 3,
      "outputs": []
    },
    {
      "cell_type": "code",
      "source": [
        "df = pd.read_csv(filename, sep=',')"
      ],
      "metadata": {
        "id": "dfXg0N7GBV9N"
      },
      "execution_count": 4,
      "outputs": []
    },
    {
      "cell_type": "code",
      "source": [
        "df.head()"
      ],
      "metadata": {
        "colab": {
          "base_uri": "https://localhost:8080/",
          "height": 206
        },
        "id": "SaMPXdR9BYzr",
        "outputId": "2686fc6b-3ec2-4e09-8d86-36c5af744a35"
      },
      "execution_count": 5,
      "outputs": [
        {
          "output_type": "execute_result",
          "data": {
            "text/plain": [
              "     model  year  price transmission  mileage fuelType  tax   mpg  engineSize\n",
              "0   Fiesta  2017  12000    Automatic    15944   Petrol  150  57.7         1.0\n",
              "1    Focus  2018  14000       Manual     9083   Petrol  150  57.7         1.0\n",
              "2    Focus  2017  13000       Manual    12456   Petrol  150  57.7         1.0\n",
              "3   Fiesta  2019  17500       Manual    10460   Petrol  145  40.3         1.5\n",
              "4   Fiesta  2019  16500    Automatic     1482   Petrol  145  48.7         1.0"
            ],
            "text/html": [
              "\n",
              "  <div id=\"df-e90d0bae-5a19-4a78-bf03-81ed60721e1a\">\n",
              "    <div class=\"colab-df-container\">\n",
              "      <div>\n",
              "<style scoped>\n",
              "    .dataframe tbody tr th:only-of-type {\n",
              "        vertical-align: middle;\n",
              "    }\n",
              "\n",
              "    .dataframe tbody tr th {\n",
              "        vertical-align: top;\n",
              "    }\n",
              "\n",
              "    .dataframe thead th {\n",
              "        text-align: right;\n",
              "    }\n",
              "</style>\n",
              "<table border=\"1\" class=\"dataframe\">\n",
              "  <thead>\n",
              "    <tr style=\"text-align: right;\">\n",
              "      <th></th>\n",
              "      <th>model</th>\n",
              "      <th>year</th>\n",
              "      <th>price</th>\n",
              "      <th>transmission</th>\n",
              "      <th>mileage</th>\n",
              "      <th>fuelType</th>\n",
              "      <th>tax</th>\n",
              "      <th>mpg</th>\n",
              "      <th>engineSize</th>\n",
              "    </tr>\n",
              "  </thead>\n",
              "  <tbody>\n",
              "    <tr>\n",
              "      <th>0</th>\n",
              "      <td>Fiesta</td>\n",
              "      <td>2017</td>\n",
              "      <td>12000</td>\n",
              "      <td>Automatic</td>\n",
              "      <td>15944</td>\n",
              "      <td>Petrol</td>\n",
              "      <td>150</td>\n",
              "      <td>57.7</td>\n",
              "      <td>1.0</td>\n",
              "    </tr>\n",
              "    <tr>\n",
              "      <th>1</th>\n",
              "      <td>Focus</td>\n",
              "      <td>2018</td>\n",
              "      <td>14000</td>\n",
              "      <td>Manual</td>\n",
              "      <td>9083</td>\n",
              "      <td>Petrol</td>\n",
              "      <td>150</td>\n",
              "      <td>57.7</td>\n",
              "      <td>1.0</td>\n",
              "    </tr>\n",
              "    <tr>\n",
              "      <th>2</th>\n",
              "      <td>Focus</td>\n",
              "      <td>2017</td>\n",
              "      <td>13000</td>\n",
              "      <td>Manual</td>\n",
              "      <td>12456</td>\n",
              "      <td>Petrol</td>\n",
              "      <td>150</td>\n",
              "      <td>57.7</td>\n",
              "      <td>1.0</td>\n",
              "    </tr>\n",
              "    <tr>\n",
              "      <th>3</th>\n",
              "      <td>Fiesta</td>\n",
              "      <td>2019</td>\n",
              "      <td>17500</td>\n",
              "      <td>Manual</td>\n",
              "      <td>10460</td>\n",
              "      <td>Petrol</td>\n",
              "      <td>145</td>\n",
              "      <td>40.3</td>\n",
              "      <td>1.5</td>\n",
              "    </tr>\n",
              "    <tr>\n",
              "      <th>4</th>\n",
              "      <td>Fiesta</td>\n",
              "      <td>2019</td>\n",
              "      <td>16500</td>\n",
              "      <td>Automatic</td>\n",
              "      <td>1482</td>\n",
              "      <td>Petrol</td>\n",
              "      <td>145</td>\n",
              "      <td>48.7</td>\n",
              "      <td>1.0</td>\n",
              "    </tr>\n",
              "  </tbody>\n",
              "</table>\n",
              "</div>\n",
              "      <button class=\"colab-df-convert\" onclick=\"convertToInteractive('df-e90d0bae-5a19-4a78-bf03-81ed60721e1a')\"\n",
              "              title=\"Convert this dataframe to an interactive table.\"\n",
              "              style=\"display:none;\">\n",
              "        \n",
              "  <svg xmlns=\"http://www.w3.org/2000/svg\" height=\"24px\"viewBox=\"0 0 24 24\"\n",
              "       width=\"24px\">\n",
              "    <path d=\"M0 0h24v24H0V0z\" fill=\"none\"/>\n",
              "    <path d=\"M18.56 5.44l.94 2.06.94-2.06 2.06-.94-2.06-.94-.94-2.06-.94 2.06-2.06.94zm-11 1L8.5 8.5l.94-2.06 2.06-.94-2.06-.94L8.5 2.5l-.94 2.06-2.06.94zm10 10l.94 2.06.94-2.06 2.06-.94-2.06-.94-.94-2.06-.94 2.06-2.06.94z\"/><path d=\"M17.41 7.96l-1.37-1.37c-.4-.4-.92-.59-1.43-.59-.52 0-1.04.2-1.43.59L10.3 9.45l-7.72 7.72c-.78.78-.78 2.05 0 2.83L4 21.41c.39.39.9.59 1.41.59.51 0 1.02-.2 1.41-.59l7.78-7.78 2.81-2.81c.8-.78.8-2.07 0-2.86zM5.41 20L4 18.59l7.72-7.72 1.47 1.35L5.41 20z\"/>\n",
              "  </svg>\n",
              "      </button>\n",
              "      \n",
              "  <style>\n",
              "    .colab-df-container {\n",
              "      display:flex;\n",
              "      flex-wrap:wrap;\n",
              "      gap: 12px;\n",
              "    }\n",
              "\n",
              "    .colab-df-convert {\n",
              "      background-color: #E8F0FE;\n",
              "      border: none;\n",
              "      border-radius: 50%;\n",
              "      cursor: pointer;\n",
              "      display: none;\n",
              "      fill: #1967D2;\n",
              "      height: 32px;\n",
              "      padding: 0 0 0 0;\n",
              "      width: 32px;\n",
              "    }\n",
              "\n",
              "    .colab-df-convert:hover {\n",
              "      background-color: #E2EBFA;\n",
              "      box-shadow: 0px 1px 2px rgba(60, 64, 67, 0.3), 0px 1px 3px 1px rgba(60, 64, 67, 0.15);\n",
              "      fill: #174EA6;\n",
              "    }\n",
              "\n",
              "    [theme=dark] .colab-df-convert {\n",
              "      background-color: #3B4455;\n",
              "      fill: #D2E3FC;\n",
              "    }\n",
              "\n",
              "    [theme=dark] .colab-df-convert:hover {\n",
              "      background-color: #434B5C;\n",
              "      box-shadow: 0px 1px 3px 1px rgba(0, 0, 0, 0.15);\n",
              "      filter: drop-shadow(0px 1px 2px rgba(0, 0, 0, 0.3));\n",
              "      fill: #FFFFFF;\n",
              "    }\n",
              "  </style>\n",
              "\n",
              "      <script>\n",
              "        const buttonEl =\n",
              "          document.querySelector('#df-e90d0bae-5a19-4a78-bf03-81ed60721e1a button.colab-df-convert');\n",
              "        buttonEl.style.display =\n",
              "          google.colab.kernel.accessAllowed ? 'block' : 'none';\n",
              "\n",
              "        async function convertToInteractive(key) {\n",
              "          const element = document.querySelector('#df-e90d0bae-5a19-4a78-bf03-81ed60721e1a');\n",
              "          const dataTable =\n",
              "            await google.colab.kernel.invokeFunction('convertToInteractive',\n",
              "                                                     [key], {});\n",
              "          if (!dataTable) return;\n",
              "\n",
              "          const docLinkHtml = 'Like what you see? Visit the ' +\n",
              "            '<a target=\"_blank\" href=https://colab.research.google.com/notebooks/data_table.ipynb>data table notebook</a>'\n",
              "            + ' to learn more about interactive tables.';\n",
              "          element.innerHTML = '';\n",
              "          dataTable['output_type'] = 'display_data';\n",
              "          await google.colab.output.renderOutput(dataTable, element);\n",
              "          const docLink = document.createElement('div');\n",
              "          docLink.innerHTML = docLinkHtml;\n",
              "          element.appendChild(docLink);\n",
              "        }\n",
              "      </script>\n",
              "    </div>\n",
              "  </div>\n",
              "  "
            ]
          },
          "metadata": {},
          "execution_count": 5
        }
      ]
    },
    {
      "cell_type": "markdown",
      "source": [
        "В качестве датасета будем использовать набор данных, содержащий данные для прогназирования цен на разные модели машин марки Ford.\n",
        "https://www.kaggle.com/datasets/adhurimquku/ford-car-price-prediction"
      ],
      "metadata": {
        "id": "dR-MfvjUBmnO"
      }
    },
    {
      "cell_type": "markdown",
      "source": [
        "Датасет содержит следующие атрибуты:\n",
        "1. model - > Ford Car Brands - Модели машин марки Ford\n",
        "2. year - >Production Year - Год выпуска\n",
        "3. price - >Price of car in $ - Цена машины в долларах\n",
        "4. transmission - > Automatic,Manual, Semi-Auto - Тип коробки передач: автоматическая, ручная, полуавтоматическая\n",
        "5. mileage -> Number of miles traveled - Количество пройденных миль\n",
        "6. fuel_Type -> Petrol,Diesel,Hybrid,Electric,Other - Тип топлива: бензин, дизель, гибрид, электричество, другое\n",
        "7. tax -> Annual Tax - Ежегодный налог\n",
        "8. mpg - > Miles per Gallon - Милли на галон\n",
        "9. engineSize - > Car's Engine Size - Размер двигателя автомобиля"
      ],
      "metadata": {
        "id": "gR9in55GB5dU"
      }
    },
    {
      "cell_type": "code",
      "source": [
        "df.shape"
      ],
      "metadata": {
        "colab": {
          "base_uri": "https://localhost:8080/"
        },
        "id": "J7Xk2w2ZDKS-",
        "outputId": "7d83524c-7863-4774-9413-f7ef937f675e"
      },
      "execution_count": 6,
      "outputs": [
        {
          "output_type": "execute_result",
          "data": {
            "text/plain": [
              "(17966, 9)"
            ]
          },
          "metadata": {},
          "execution_count": 6
        }
      ]
    },
    {
      "cell_type": "markdown",
      "source": [
        "Типы данных"
      ],
      "metadata": {
        "id": "_K1eT3HuDazP"
      }
    },
    {
      "cell_type": "code",
      "source": [
        "df.dtypes"
      ],
      "metadata": {
        "colab": {
          "base_uri": "https://localhost:8080/"
        },
        "id": "ylpa4MuyDcg8",
        "outputId": "30d77ec7-4422-46b1-c6d3-82e550309c39"
      },
      "execution_count": 8,
      "outputs": [
        {
          "output_type": "execute_result",
          "data": {
            "text/plain": [
              "model            object\n",
              "year              int64\n",
              "price             int64\n",
              "transmission     object\n",
              "mileage           int64\n",
              "fuelType         object\n",
              "tax               int64\n",
              "mpg             float64\n",
              "engineSize      float64\n",
              "dtype: object"
            ]
          },
          "metadata": {},
          "execution_count": 8
        }
      ]
    },
    {
      "cell_type": "markdown",
      "source": [
        "## Обработка данных"
      ],
      "metadata": {
        "id": "mCdqzaPsEyG9"
      }
    },
    {
      "cell_type": "markdown",
      "source": [
        "\n",
        "Кодирование категориальных признаков"
      ],
      "metadata": {
        "id": "KpKKCqRyFdOn"
      }
    },
    {
      "cell_type": "markdown",
      "source": [
        "Категориальные данные находятся в столбцах \"model\", \"fuelType\", \"transmission\".\n",
        "Для кодирования этих столбцов будем использовать LabelEncoder:"
      ],
      "metadata": {
        "id": "N8cKuw0MGJjf"
      }
    },
    {
      "cell_type": "code",
      "source": [
        "from sklearn.preprocessing import LabelEncoder"
      ],
      "metadata": {
        "id": "ydhejdRDFeL5"
      },
      "execution_count": 11,
      "outputs": []
    },
    {
      "cell_type": "code",
      "source": [
        "#model\n",
        "lemanum = LabelEncoder()\n",
        "lemanumarr = lemanum.fit_transform(df[\"model\"])\n",
        "df[\"model\"] = lemanumarr\n",
        "df = df.astype({\"model\":\"float\"})\n",
        "\n",
        "#transmission\n",
        "lemot = LabelEncoder()\n",
        "lemotarr = lemot.fit_transform(df[\"transmission\"])\n",
        "df[\"transmission\"] = lemotarr\n",
        "df = df.astype({\"transmission\":\"float\"})\n",
        "\n",
        "#fuelType\n",
        "lemof = LabelEncoder()\n",
        "lemofarr = lemof.fit_transform(df[\"fuelType\"])\n",
        "df[\"fuelType\"] = lemofarr\n",
        "df = df.astype({\"fuelType\":\"float\"})"
      ],
      "metadata": {
        "id": "1S-UdVCmGn9c"
      },
      "execution_count": 12,
      "outputs": []
    },
    {
      "cell_type": "markdown",
      "source": [
        "Выведем новые уникальные значения"
      ],
      "metadata": {
        "id": "ntfkWiuQIPC6"
      }
    },
    {
      "cell_type": "code",
      "source": [
        "np.unique(lemanumarr), np.unique(lemotarr), np.unique(lemofarr)"
      ],
      "metadata": {
        "colab": {
          "base_uri": "https://localhost:8080/"
        },
        "id": "59sCgGCdIDal",
        "outputId": "36e41e36-c693-4167-823e-a0e5eeec661a"
      },
      "execution_count": 13,
      "outputs": [
        {
          "output_type": "execute_result",
          "data": {
            "text/plain": [
              "(array([ 0,  1,  2,  3,  4,  5,  6,  7,  8,  9, 10, 11, 12, 13, 14, 15, 16,\n",
              "        17, 18, 19, 20, 21, 22, 23]), array([0, 1, 2]), array([0, 1, 2, 3, 4]))"
            ]
          },
          "metadata": {},
          "execution_count": 13
        }
      ]
    },
    {
      "cell_type": "markdown",
      "source": [
        "Выведем обновленную таблицу"
      ],
      "metadata": {
        "id": "boKbZFi-IZyn"
      }
    },
    {
      "cell_type": "code",
      "source": [
        "df.head()"
      ],
      "metadata": {
        "colab": {
          "base_uri": "https://localhost:8080/",
          "height": 206
        },
        "id": "wdkd8N2EIU1d",
        "outputId": "564b8c94-ab4b-44df-87d6-6c50417eaec5"
      },
      "execution_count": 14,
      "outputs": [
        {
          "output_type": "execute_result",
          "data": {
            "text/plain": [
              "   model  year  price  transmission  mileage  fuelType  tax   mpg  engineSize\n",
              "0    5.0  2017  12000           0.0    15944       4.0  150  57.7         1.0\n",
              "1    6.0  2018  14000           1.0     9083       4.0  150  57.7         1.0\n",
              "2    6.0  2017  13000           1.0    12456       4.0  150  57.7         1.0\n",
              "3    5.0  2019  17500           1.0    10460       4.0  145  40.3         1.5\n",
              "4    5.0  2019  16500           0.0     1482       4.0  145  48.7         1.0"
            ],
            "text/html": [
              "\n",
              "  <div id=\"df-e1f097e4-d708-41c4-bb1d-e74259543ce0\">\n",
              "    <div class=\"colab-df-container\">\n",
              "      <div>\n",
              "<style scoped>\n",
              "    .dataframe tbody tr th:only-of-type {\n",
              "        vertical-align: middle;\n",
              "    }\n",
              "\n",
              "    .dataframe tbody tr th {\n",
              "        vertical-align: top;\n",
              "    }\n",
              "\n",
              "    .dataframe thead th {\n",
              "        text-align: right;\n",
              "    }\n",
              "</style>\n",
              "<table border=\"1\" class=\"dataframe\">\n",
              "  <thead>\n",
              "    <tr style=\"text-align: right;\">\n",
              "      <th></th>\n",
              "      <th>model</th>\n",
              "      <th>year</th>\n",
              "      <th>price</th>\n",
              "      <th>transmission</th>\n",
              "      <th>mileage</th>\n",
              "      <th>fuelType</th>\n",
              "      <th>tax</th>\n",
              "      <th>mpg</th>\n",
              "      <th>engineSize</th>\n",
              "    </tr>\n",
              "  </thead>\n",
              "  <tbody>\n",
              "    <tr>\n",
              "      <th>0</th>\n",
              "      <td>5.0</td>\n",
              "      <td>2017</td>\n",
              "      <td>12000</td>\n",
              "      <td>0.0</td>\n",
              "      <td>15944</td>\n",
              "      <td>4.0</td>\n",
              "      <td>150</td>\n",
              "      <td>57.7</td>\n",
              "      <td>1.0</td>\n",
              "    </tr>\n",
              "    <tr>\n",
              "      <th>1</th>\n",
              "      <td>6.0</td>\n",
              "      <td>2018</td>\n",
              "      <td>14000</td>\n",
              "      <td>1.0</td>\n",
              "      <td>9083</td>\n",
              "      <td>4.0</td>\n",
              "      <td>150</td>\n",
              "      <td>57.7</td>\n",
              "      <td>1.0</td>\n",
              "    </tr>\n",
              "    <tr>\n",
              "      <th>2</th>\n",
              "      <td>6.0</td>\n",
              "      <td>2017</td>\n",
              "      <td>13000</td>\n",
              "      <td>1.0</td>\n",
              "      <td>12456</td>\n",
              "      <td>4.0</td>\n",
              "      <td>150</td>\n",
              "      <td>57.7</td>\n",
              "      <td>1.0</td>\n",
              "    </tr>\n",
              "    <tr>\n",
              "      <th>3</th>\n",
              "      <td>5.0</td>\n",
              "      <td>2019</td>\n",
              "      <td>17500</td>\n",
              "      <td>1.0</td>\n",
              "      <td>10460</td>\n",
              "      <td>4.0</td>\n",
              "      <td>145</td>\n",
              "      <td>40.3</td>\n",
              "      <td>1.5</td>\n",
              "    </tr>\n",
              "    <tr>\n",
              "      <th>4</th>\n",
              "      <td>5.0</td>\n",
              "      <td>2019</td>\n",
              "      <td>16500</td>\n",
              "      <td>0.0</td>\n",
              "      <td>1482</td>\n",
              "      <td>4.0</td>\n",
              "      <td>145</td>\n",
              "      <td>48.7</td>\n",
              "      <td>1.0</td>\n",
              "    </tr>\n",
              "  </tbody>\n",
              "</table>\n",
              "</div>\n",
              "      <button class=\"colab-df-convert\" onclick=\"convertToInteractive('df-e1f097e4-d708-41c4-bb1d-e74259543ce0')\"\n",
              "              title=\"Convert this dataframe to an interactive table.\"\n",
              "              style=\"display:none;\">\n",
              "        \n",
              "  <svg xmlns=\"http://www.w3.org/2000/svg\" height=\"24px\"viewBox=\"0 0 24 24\"\n",
              "       width=\"24px\">\n",
              "    <path d=\"M0 0h24v24H0V0z\" fill=\"none\"/>\n",
              "    <path d=\"M18.56 5.44l.94 2.06.94-2.06 2.06-.94-2.06-.94-.94-2.06-.94 2.06-2.06.94zm-11 1L8.5 8.5l.94-2.06 2.06-.94-2.06-.94L8.5 2.5l-.94 2.06-2.06.94zm10 10l.94 2.06.94-2.06 2.06-.94-2.06-.94-.94-2.06-.94 2.06-2.06.94z\"/><path d=\"M17.41 7.96l-1.37-1.37c-.4-.4-.92-.59-1.43-.59-.52 0-1.04.2-1.43.59L10.3 9.45l-7.72 7.72c-.78.78-.78 2.05 0 2.83L4 21.41c.39.39.9.59 1.41.59.51 0 1.02-.2 1.41-.59l7.78-7.78 2.81-2.81c.8-.78.8-2.07 0-2.86zM5.41 20L4 18.59l7.72-7.72 1.47 1.35L5.41 20z\"/>\n",
              "  </svg>\n",
              "      </button>\n",
              "      \n",
              "  <style>\n",
              "    .colab-df-container {\n",
              "      display:flex;\n",
              "      flex-wrap:wrap;\n",
              "      gap: 12px;\n",
              "    }\n",
              "\n",
              "    .colab-df-convert {\n",
              "      background-color: #E8F0FE;\n",
              "      border: none;\n",
              "      border-radius: 50%;\n",
              "      cursor: pointer;\n",
              "      display: none;\n",
              "      fill: #1967D2;\n",
              "      height: 32px;\n",
              "      padding: 0 0 0 0;\n",
              "      width: 32px;\n",
              "    }\n",
              "\n",
              "    .colab-df-convert:hover {\n",
              "      background-color: #E2EBFA;\n",
              "      box-shadow: 0px 1px 2px rgba(60, 64, 67, 0.3), 0px 1px 3px 1px rgba(60, 64, 67, 0.15);\n",
              "      fill: #174EA6;\n",
              "    }\n",
              "\n",
              "    [theme=dark] .colab-df-convert {\n",
              "      background-color: #3B4455;\n",
              "      fill: #D2E3FC;\n",
              "    }\n",
              "\n",
              "    [theme=dark] .colab-df-convert:hover {\n",
              "      background-color: #434B5C;\n",
              "      box-shadow: 0px 1px 3px 1px rgba(0, 0, 0, 0.15);\n",
              "      filter: drop-shadow(0px 1px 2px rgba(0, 0, 0, 0.3));\n",
              "      fill: #FFFFFF;\n",
              "    }\n",
              "  </style>\n",
              "\n",
              "      <script>\n",
              "        const buttonEl =\n",
              "          document.querySelector('#df-e1f097e4-d708-41c4-bb1d-e74259543ce0 button.colab-df-convert');\n",
              "        buttonEl.style.display =\n",
              "          google.colab.kernel.accessAllowed ? 'block' : 'none';\n",
              "\n",
              "        async function convertToInteractive(key) {\n",
              "          const element = document.querySelector('#df-e1f097e4-d708-41c4-bb1d-e74259543ce0');\n",
              "          const dataTable =\n",
              "            await google.colab.kernel.invokeFunction('convertToInteractive',\n",
              "                                                     [key], {});\n",
              "          if (!dataTable) return;\n",
              "\n",
              "          const docLinkHtml = 'Like what you see? Visit the ' +\n",
              "            '<a target=\"_blank\" href=https://colab.research.google.com/notebooks/data_table.ipynb>data table notebook</a>'\n",
              "            + ' to learn more about interactive tables.';\n",
              "          element.innerHTML = '';\n",
              "          dataTable['output_type'] = 'display_data';\n",
              "          await google.colab.output.renderOutput(dataTable, element);\n",
              "          const docLink = document.createElement('div');\n",
              "          docLink.innerHTML = docLinkHtml;\n",
              "          element.appendChild(docLink);\n",
              "        }\n",
              "      </script>\n",
              "    </div>\n",
              "  </div>\n",
              "  "
            ]
          },
          "metadata": {},
          "execution_count": 14
        }
      ]
    },
    {
      "cell_type": "markdown",
      "source": [
        "## Разделение выборки на обучающую и тестовую"
      ],
      "metadata": {
        "id": "3R3x7rFtIfsl"
      }
    },
    {
      "cell_type": "markdown",
      "source": [
        "Разделим выборку с помощью функции train_test_split:"
      ],
      "metadata": {
        "id": "ufWLffbsIiWd"
      }
    },
    {
      "cell_type": "code",
      "source": [
        "from sklearn.model_selection import train_test_split"
      ],
      "metadata": {
        "id": "O__jPOzsIjbT"
      },
      "execution_count": 16,
      "outputs": []
    },
    {
      "cell_type": "code",
      "source": [
        "X_train, X_test, y_train, y_test = train_test_split(df, df.price, random_state=1)"
      ],
      "metadata": {
        "id": "gquvq3rDImAV"
      },
      "execution_count": 20,
      "outputs": []
    },
    {
      "cell_type": "code",
      "source": [
        "X_train.shape, y_train.shape, X_test.shape, y_test.shape"
      ],
      "metadata": {
        "colab": {
          "base_uri": "https://localhost:8080/"
        },
        "id": "FVS950vmOgsp",
        "outputId": "2c18cf06-ec58-4e18-e299-551a37886947"
      },
      "execution_count": 21,
      "outputs": [
        {
          "output_type": "execute_result",
          "data": {
            "text/plain": [
              "((13474, 9), (13474,), (4492, 9), (4492,))"
            ]
          },
          "metadata": {},
          "execution_count": 21
        }
      ]
    },
    {
      "cell_type": "markdown",
      "source": [
        "### Обучение моделей"
      ],
      "metadata": {
        "id": "aQp5HR-4OshT"
      }
    },
    {
      "cell_type": "markdown",
      "source": [
        "## Линейная модель регрессии"
      ],
      "metadata": {
        "id": "ASo130wVOu4h"
      }
    },
    {
      "cell_type": "markdown",
      "source": [
        "### Кореляционная матрица:"
      ],
      "metadata": {
        "id": "p6shQYcaO0L4"
      }
    },
    {
      "cell_type": "code",
      "source": [
        "fig, ax = plt.subplots(figsize=(15,7))\n",
        "sns.heatmap(df.corr(method='pearson'), ax=ax, annot=True, fmt='.2f')"
      ],
      "metadata": {
        "colab": {
          "base_uri": "https://localhost:8080/",
          "height": 452
        },
        "id": "tz2o68mQOxkz",
        "outputId": "ebb3b238-fe05-47b6-8ac6-deb621b217f0"
      },
      "execution_count": 22,
      "outputs": [
        {
          "output_type": "execute_result",
          "data": {
            "text/plain": [
              "<matplotlib.axes._subplots.AxesSubplot at 0x7f50907c0410>"
            ]
          },
          "metadata": {},
          "execution_count": 22
        },
        {
          "output_type": "display_data",
          "data": {
            "text/plain": [
              "<Figure size 1080x504 with 2 Axes>"
            ],
            "image/png": "[encoded data removed]"
          },
          "metadata": {
            "needs_background": "light"
          }
        }
      ]
    },
    {
      "cell_type": "markdown",
      "source": [
        "Наибольший коэффициент корреляции между \"price\" и \"year\" - 0,64"
      ],
      "metadata": {
        "id": "tSP9Bqm9QLLv"
      }
    },
    {
      "cell_type": "code",
      "source": [
        "fig, ax = plt.subplots(figsize=(10,10)) \n",
        "sns.scatterplot(ax=ax, x='year', y='price', data=df)"
      ],
      "metadata": {
        "colab": {
          "base_uri": "https://localhost:8080/",
          "height": 628
        },
        "id": "PdBoBMm9PQ-d",
        "outputId": "d90208cb-1077-4171-dcab-b0383d990ed8"
      },
      "execution_count": 23,
      "outputs": [
        {
          "output_type": "execute_result",
          "data": {
            "text/plain": [
              "<matplotlib.axes._subplots.AxesSubplot at 0x7f508d917390>"
            ]
          },
          "metadata": {},
          "execution_count": 23
        },
        {
          "output_type": "display_data",
          "data": {
            "text/plain": [
              "<Figure size 720x720 with 1 Axes>"
            ],
            "image/png": "[encoded data removed]"
          },
          "metadata": {
            "needs_background": "light"
          }
        }
      ]
    },
    {
      "cell_type": "markdown",
      "source": [
        "### Коэффициенты регрессии"
      ],
      "metadata": {
        "id": "zMwlwJ2cR3eW"
      }
    },
    {
      "cell_type": "code",
      "source": [
        "from typing import Dict, Tuple"
      ],
      "metadata": {
        "id": "R58xf4z_R7sa"
      },
      "execution_count": 24,
      "outputs": []
    },
    {
      "cell_type": "code",
      "source": [
        "def analytic_regr_coef(x_array : np.ndarray, \n",
        "                       y_array : np.ndarray) -> Tuple[float, float]:\n",
        "    x_mean = np.mean(x_array)\n",
        "    y_mean = np.mean(y_array)\n",
        "    var1 = np.sum([(x-x_mean)**2 for x in x_array])\n",
        "    cov1 = np.sum([(x-x_mean)*(y-y_mean) for x, y in zip(x_array, y_array)])\n",
        "    b1 = cov1 / var1\n",
        "    b0 = y_mean - b1*x_mean\n",
        "    return b0, b1"
      ],
      "metadata": {
        "id": "V_a6HB_WSASH"
      },
      "execution_count": 25,
      "outputs": []
    },
    {
      "cell_type": "code",
      "source": [
        "x_array = df['year'].values\n",
        "y_array = df['price'].values"
      ],
      "metadata": {
        "id": "NPYVRfbMSCMX"
      },
      "execution_count": 28,
      "outputs": []
    },
    {
      "cell_type": "markdown",
      "source": [
        "Найдем коэффициенты регрессии:"
      ],
      "metadata": {
        "id": "3MJpfyWfSsdK"
      }
    },
    {
      "cell_type": "code",
      "source": [
        "b0, b1 = analytic_regr_coef(x_array, y_array)\n",
        "b0, b1"
      ],
      "metadata": {
        "colab": {
          "base_uri": "https://localhost:8080/"
        },
        "id": "jO7G0Cw5SWAP",
        "outputId": "f054d0fd-c054-4d4a-c13d-8c809873d00e"
      },
      "execution_count": 29,
      "outputs": [
        {
          "output_type": "execute_result",
          "data": {
            "text/plain": [
              "(-2954033.920168288, 1470.7535174668847)"
            ]
          },
          "metadata": {},
          "execution_count": 29
        }
      ]
    },
    {
      "cell_type": "code",
      "source": [
        "def y_regr(x_array : np.ndarray, b0: float, b1: float) -> np.ndarray:\n",
        "    res = [b1*x+b0 for x in x_array]\n",
        "    return res"
      ],
      "metadata": {
        "id": "mtUoKQmJSYF2"
      },
      "execution_count": 30,
      "outputs": []
    },
    {
      "cell_type": "code",
      "source": [
        "regr_a = y_regr(x_array, b0, b1)"
      ],
      "metadata": {
        "id": "FmobCnUASZsD"
      },
      "execution_count": 31,
      "outputs": []
    },
    {
      "cell_type": "markdown",
      "source": [
        "### Метод наименьших квадратов"
      ],
      "metadata": {
        "id": "H8iHu-FTT1er"
      }
    },
    {
      "cell_type": "code",
      "source": [
        "K_mnk=10\n",
        "\n",
        "plt.plot(x_array[1:K_mnk+1], y_array[1:K_mnk+1], 'go')\n",
        "plt.plot(x_array[1:K_mnk+1], regr_a[1:K_mnk+1], '-ro', linewidth=2.0)\n",
        "\n",
        "for i in range(len(x_array[1:K_mnk+1])):\n",
        "    x1 = x_array[1:K_mnk+1][i]\n",
        "    y1 = y_array[1:K_mnk+1][i]\n",
        "    y2 = regr_a[1:K_mnk+1][i]\n",
        "    plt.plot([x1,x1],[y1,y2],'g-')\n",
        "\n",
        "plt.show()"
      ],
      "metadata": {
        "colab": {
          "base_uri": "https://localhost:8080/",
          "height": 268
        },
        "id": "ou0gsQ1NT3hh",
        "outputId": "22c12896-6c3a-43ea-ee13-323f35787bdf"
      },
      "execution_count": 34,
      "outputs": [
        {
          "output_type": "display_data",
          "data": {
            "text/plain": [
              "<Figure size 432x288 with 1 Axes>"
            ],
            "image/png": "[encoded data removed]"
          },
          "metadata": {
            "needs_background": "light"
          }
        }
      ]
    },
    {
      "cell_type": "markdown",
      "source": [
        "Зеленые отрезки - ошибки между истинными и предсказанными значениями."
      ],
      "metadata": {
        "id": "eH61N41DUCp-"
      }
    },
    {
      "cell_type": "markdown",
      "source": [
        "### Подбор коэффициентов через LinearRegression"
      ],
      "metadata": {
        "id": "huUOl7HHU0dz"
      }
    },
    {
      "cell_type": "code",
      "source": [
        "from sklearn.linear_model import LinearRegression"
      ],
      "metadata": {
        "id": "NLPFl3R0VAh0"
      },
      "execution_count": 35,
      "outputs": []
    },
    {
      "cell_type": "markdown",
      "source": [
        "\n",
        "Коэффициенты, полученные с использованием LinearRegression:"
      ],
      "metadata": {
        "id": "Tnsonl7yVDsd"
      }
    },
    {
      "cell_type": "code",
      "source": [
        "regr1 = LinearRegression().fit(x_array.reshape(-1, 1), y_array.reshape(-1, 1))\n",
        "(b1, regr1.coef_), (b0, regr1.intercept_)"
      ],
      "metadata": {
        "colab": {
          "base_uri": "https://localhost:8080/"
        },
        "id": "Fp0RXv6SVEUR",
        "outputId": "8b9889a6-7805-43c5-cb73-2e9b0ba4050f"
      },
      "execution_count": 36,
      "outputs": [
        {
          "output_type": "execute_result",
          "data": {
            "text/plain": [
              "((1470.7535174668847, array([[1470.75351747]])),\n",
              " (-2954033.920168288, array([-2954033.92016829])))"
            ]
          },
          "metadata": {},
          "execution_count": 36
        }
      ]
    },
    {
      "cell_type": "markdown",
      "source": [
        "Линейная модель:"
      ],
      "metadata": {
        "id": "zsq52ziHVIWN"
      }
    },
    {
      "cell_type": "code",
      "source": [
        "model1 = LinearRegression()\n",
        "model1.fit(X_train, y_train)"
      ],
      "metadata": {
        "colab": {
          "base_uri": "https://localhost:8080/"
        },
        "id": "PCHIYJpCVI3y",
        "outputId": "1cb51256-c1f7-4a53-994b-acb0e9d78763"
      },
      "execution_count": 37,
      "outputs": [
        {
          "output_type": "execute_result",
          "data": {
            "text/plain": [
              "LinearRegression()"
            ]
          },
          "metadata": {},
          "execution_count": 37
        }
      ]
    },
    {
      "cell_type": "markdown",
      "source": [
        "## SVM модель"
      ],
      "metadata": {
        "id": "Y8KTalBaVoCD"
      }
    },
    {
      "cell_type": "markdown",
      "source": [
        "\n",
        "Будем использовать класс SVR для решения задачи регрессии методом опорных векторов:"
      ],
      "metadata": {
        "id": "zsUcleu7WbHu"
      }
    },
    {
      "cell_type": "code",
      "source": [
        "from sklearn.svm import SVR\n",
        "from sklearn.datasets import make_blobs"
      ],
      "metadata": {
        "id": "c6yPwbcjWbw7"
      },
      "execution_count": 53,
      "outputs": []
    },
    {
      "cell_type": "markdown",
      "source": [
        "\n",
        "Модель SVM:"
      ],
      "metadata": {
        "id": "ZSujZOaKWegc"
      }
    },
    {
      "cell_type": "code",
      "source": [
        "regr4 = SVR(kernel='linear', C=1.0)\n",
        "model4 = regr4.fit(X_train, y_train)"
      ],
      "metadata": {
        "id": "v4N2sudDWmbm"
      },
      "execution_count": 45,
      "outputs": []
    },
    {
      "cell_type": "markdown",
      "source": [
        "\n",
        "## Дерево решений"
      ],
      "metadata": {
        "id": "3Tigz8eLXmHr"
      }
    },
    {
      "cell_type": "code",
      "source": [
        "from sklearn.tree import DecisionTreeRegressor"
      ],
      "metadata": {
        "id": "e12GY4Y0YTzx"
      },
      "execution_count": 44,
      "outputs": []
    },
    {
      "cell_type": "code",
      "source": [
        "def stat_tree(estimator):\n",
        "    n_nodes = estimator.tree_.node_count\n",
        "    children_left = estimator.tree_.children_left\n",
        "    children_right = estimator.tree_.children_right\n",
        "\n",
        "    node_depth = np.zeros(shape=n_nodes, dtype=np.int64)\n",
        "    is_leaves = np.zeros(shape=n_nodes, dtype=bool)\n",
        "    stack = [(0, -1)]  # seed is the root node id and its parent depth\n",
        "    while len(stack) > 0:\n",
        "        node_id, parent_depth = stack.pop()\n",
        "        node_depth[node_id] = parent_depth + 1\n",
        "\n",
        "        # If we have a test node\n",
        "        if (children_left[node_id] != children_right[node_id]):\n",
        "            stack.append((children_left[node_id], parent_depth + 1))\n",
        "            stack.append((children_right[node_id], parent_depth + 1))\n",
        "        else:\n",
        "            is_leaves[node_id] = True\n",
        "\n",
        "    print(\"Всего узлов:\", n_nodes)\n",
        "    print(\"Листовых узлов:\", sum(is_leaves))\n",
        "    print(\"Глубина дерева:\", max(node_depth))\n",
        "    print(\"Минимальная глубина листьев дерева:\", min(node_depth[is_leaves]))\n",
        "    print(\"Средняя глубина листьев дерева:\", node_depth[is_leaves].mean())"
      ],
      "metadata": {
        "id": "VnB6qzmhYkiH"
      },
      "execution_count": 48,
      "outputs": []
    },
    {
      "cell_type": "markdown",
      "source": [
        "Построим модель дерева с глубиной = 3:"
      ],
      "metadata": {
        "id": "WvhTK8XdY_uC"
      }
    },
    {
      "cell_type": "code",
      "source": [
        "regr5 = DecisionTreeRegressor(max_depth=3)\n",
        "model5 = regr5.fit(X_train, y_train)"
      ],
      "metadata": {
        "id": "tGCWQ3DzY4Cz"
      },
      "execution_count": 49,
      "outputs": []
    },
    {
      "cell_type": "markdown",
      "source": [
        "\n",
        "Выведем основную статистику для дерева:"
      ],
      "metadata": {
        "id": "JEK6_y-IZDff"
      }
    },
    {
      "cell_type": "code",
      "source": [
        "stat_tree(model5)"
      ],
      "metadata": {
        "colab": {
          "base_uri": "https://localhost:8080/"
        },
        "id": "4t4PHepoZCAj",
        "outputId": "6c775cc2-88ca-408e-9dfe-c0ff9f046f29"
      },
      "execution_count": 50,
      "outputs": [
        {
          "output_type": "stream",
          "name": "stdout",
          "text": [
            "Всего узлов: 15\n",
            "Листовых узлов: 8\n",
            "Глубина дерева: 3\n",
            "Минимальная глубина листьев дерева: 3\n",
            "Средняя глубина листьев дерева: 3.0\n"
          ]
        }
      ]
    },
    {
      "cell_type": "markdown",
      "source": [
        "Построим модель дерева с глубиной = 5:"
      ],
      "metadata": {
        "id": "zcJzjLvZZHti"
      }
    },
    {
      "cell_type": "code",
      "source": [
        "regr6 = DecisionTreeRegressor(max_depth=5)\n",
        "model6 = regr6.fit(X_train, y_train)"
      ],
      "metadata": {
        "id": "Uv2JclMlZI7z"
      },
      "execution_count": 51,
      "outputs": []
    },
    {
      "cell_type": "code",
      "source": [
        "stat_tree(model6)"
      ],
      "metadata": {
        "colab": {
          "base_uri": "https://localhost:8080/"
        },
        "id": "kLADzmCvZ2sp",
        "outputId": "8b8367b9-8ac3-43ea-d357-5c8071bd6f50"
      },
      "execution_count": 57,
      "outputs": [
        {
          "output_type": "stream",
          "name": "stdout",
          "text": [
            "Всего узлов: 63\n",
            "Листовых узлов: 32\n",
            "Глубина дерева: 5\n",
            "Минимальная глубина листьев дерева: 5\n",
            "Средняя глубина листьев дерева: 5.0\n"
          ]
        }
      ]
    },
    {
      "cell_type": "markdown",
      "source": [
        "## Оценка качества моделей с помощью двух метрик. Сравнение качества."
      ],
      "metadata": {
        "id": "obVECNiqaDUt"
      }
    },
    {
      "cell_type": "markdown",
      "source": [
        "Оценивать качество регрессии будем при помощи двух метрик - средней абсолютной ошибки (Mean Absolute Error) и медианной абсолютной ошибки (Median Absolute Error):"
      ],
      "metadata": {
        "id": "slUVzdXRaW2w"
      }
    },
    {
      "cell_type": "code",
      "source": [
        "from sklearn.metrics import mean_absolute_error, median_absolute_error "
      ],
      "metadata": {
        "id": "hMNQE5AMaEkN"
      },
      "execution_count": 58,
      "outputs": []
    },
    {
      "cell_type": "code",
      "source": [
        "err1 = []\n",
        "err2 = []"
      ],
      "metadata": {
        "id": "eWZEeMGEa57P"
      },
      "execution_count": 59,
      "outputs": []
    },
    {
      "cell_type": "markdown",
      "source": [
        "Функция для оценивания:"
      ],
      "metadata": {
        "id": "_iW4iG41a8Gj"
      }
    },
    {
      "cell_type": "code",
      "source": [
        "def rate_model(model):\n",
        "    print(\"Средняя абсолютная ошибка:\",\n",
        "          mean_absolute_error(y_test, model.predict(X_test)))\n",
        "    err1.append(mean_absolute_error(y_test, model.predict(X_test)))\n",
        "    print(\"Медианная абсолютная ошибка:\",\n",
        "          median_absolute_error(y_test, model.predict(X_test)))\n",
        "    err2.append(median_absolute_error(y_test, model.predict(X_test)))"
      ],
      "metadata": {
        "id": "r1GhUbpYa91n"
      },
      "execution_count": 60,
      "outputs": []
    },
    {
      "cell_type": "code",
      "source": [
        "rate_model(model1)"
      ],
      "metadata": {
        "colab": {
          "base_uri": "https://localhost:8080/"
        },
        "id": "GtTidLZQbArP",
        "outputId": "8db25b2b-a70c-4d43-f831-7fd078c01699"
      },
      "execution_count": 61,
      "outputs": [
        {
          "output_type": "stream",
          "name": "stdout",
          "text": [
            "Средняя абсолютная ошибка: 5.998220817831354e-12\n",
            "Медианная абсолютная ошибка: 5.4569682106375694e-12\n"
          ]
        }
      ]
    },
    {
      "cell_type": "code",
      "source": [
        "rate_model(model4)"
      ],
      "metadata": {
        "colab": {
          "base_uri": "https://localhost:8080/"
        },
        "id": "XKWJmi8kbCZh",
        "outputId": "b911dcc3-7363-4f20-b816-60824207ea7e"
      },
      "execution_count": 62,
      "outputs": [
        {
          "output_type": "stream",
          "name": "stdout",
          "text": [
            "Средняя абсолютная ошибка: 0.036986368835288864\n",
            "Медианная абсолютная ошибка: 0.03734237749267777\n"
          ]
        }
      ]
    },
    {
      "cell_type": "code",
      "source": [
        "rate_model(model5)"
      ],
      "metadata": {
        "colab": {
          "base_uri": "https://localhost:8080/"
        },
        "id": "tvsD3fWwbF3-",
        "outputId": "e747152f-8ca5-48f9-ebcd-49d2638ff80d"
      },
      "execution_count": 63,
      "outputs": [
        {
          "output_type": "stream",
          "name": "stdout",
          "text": [
            "Средняя абсолютная ошибка: 771.6319101516356\n",
            "Медианная абсолютная ошибка: 680.5265086321469\n"
          ]
        }
      ]
    },
    {
      "cell_type": "code",
      "source": [
        "rate_model(model6)"
      ],
      "metadata": {
        "colab": {
          "base_uri": "https://localhost:8080/"
        },
        "id": "zQzBewg9bIo5",
        "outputId": "84a5f7cb-4743-478a-aa93-35b104be3d76"
      },
      "execution_count": 64,
      "outputs": [
        {
          "output_type": "stream",
          "name": "stdout",
          "text": [
            "Средняя абсолютная ошибка: 190.73332747554798\n",
            "Медианная абсолютная ошибка: 154.2515723270444\n"
          ]
        }
      ]
    },
    {
      "cell_type": "markdown",
      "source": [
        "Самая лучшая по качеству по обоим метрикам - первая модель, полученная при помощи LinearRegression, а худшая - Дерево решений с глубиной 5."
      ],
      "metadata": {
        "id": "-z7uSMCxbrZ7"
      }
    },
    {
      "cell_type": "markdown",
      "source": [
        "## График важности признаков в дереве решений"
      ],
      "metadata": {
        "id": "fGs-TSu9cEbd"
      }
    },
    {
      "cell_type": "code",
      "source": [
        "from operator import itemgetter\n",
        "\n",
        "def draw_feature_importances(tree_model, X_dataset, figsize=(18,5)):\n",
        "    \"\"\"\n",
        "    Вывод важности признаков в виде графика\n",
        "    \"\"\"\n",
        "    # Сортировка значений важности признаков по убыванию\n",
        "    list_to_sort = list(zip(X_dataset.columns.values, tree_model.feature_importances_))\n",
        "    sorted_list = sorted(list_to_sort, key=itemgetter(1), reverse = True)\n",
        "    # Названия признаков\n",
        "    labels = [x for x,_ in sorted_list]\n",
        "    # Важности признаков\n",
        "    data = [x for _,x in sorted_list]\n",
        "    # Вывод графика\n",
        "    fig, ax = plt.subplots(figsize=figsize)\n",
        "    ind = np.arange(len(labels))\n",
        "    plt.bar(ind, data)\n",
        "    plt.xticks(ind, labels, rotation='vertical')\n",
        "    # Вывод значений\n",
        "    for a,b in zip(ind, data):\n",
        "        plt.text(a-0.05, b+0.01, str(round(b,3)))\n",
        "    plt.show()\n",
        "    return labels, data"
      ],
      "metadata": {
        "id": "bGhlSIz_cGLQ"
      },
      "execution_count": 65,
      "outputs": []
    },
    {
      "cell_type": "markdown",
      "source": [
        "Проверим для модели с глубиной = 3:"
      ],
      "metadata": {
        "id": "UeM7sKf-cRbf"
      }
    },
    {
      "cell_type": "code",
      "source": [
        "list(zip(df.columns.values, model5.feature_importances_))"
      ],
      "metadata": {
        "colab": {
          "base_uri": "https://localhost:8080/"
        },
        "id": "Uf-iEMpEcR5z",
        "outputId": "ff927ae4-a0fa-4796-84a5-5123ed048ce9"
      },
      "execution_count": 67,
      "outputs": [
        {
          "output_type": "execute_result",
          "data": {
            "text/plain": [
              "[('model', 0.0),\n",
              " ('year', 0.0),\n",
              " ('price', 1.0),\n",
              " ('transmission', 0.0),\n",
              " ('mileage', 0.0),\n",
              " ('fuelType', 0.0),\n",
              " ('tax', 0.0),\n",
              " ('mpg', 0.0),\n",
              " ('engineSize', 0.0)]"
            ]
          },
          "metadata": {},
          "execution_count": 67
        }
      ]
    },
    {
      "cell_type": "code",
      "source": [
        "car_tree_cl_fl_1, car_tree_cl_fd_1 = draw_feature_importances(model5, df)"
      ],
      "metadata": {
        "colab": {
          "base_uri": "https://localhost:8080/",
          "height": 383
        },
        "id": "mabBU4xucYXK",
        "outputId": "53ed4d2e-8ca6-4810-eecc-8c25837f0383"
      },
      "execution_count": 69,
      "outputs": [
        {
          "output_type": "display_data",
          "data": {
            "text/plain": [
              "<Figure size 1296x360 with 1 Axes>"
            ],
            "image/png": "[encoded data removed]"
          },
          "metadata": {
            "needs_background": "light"
          }
        }
      ]
    },
    {
      "cell_type": "code",
      "source": [
        "list(zip(df.columns.values, model6.feature_importances_))"
      ],
      "metadata": {
        "colab": {
          "base_uri": "https://localhost:8080/"
        },
        "id": "WaASildncodU",
        "outputId": "7f7df1a3-073b-47ca-eb88-38c47e674939"
      },
      "execution_count": 73,
      "outputs": [
        {
          "output_type": "execute_result",
          "data": {
            "text/plain": [
              "[('model', 0.0),\n",
              " ('year', 0.0),\n",
              " ('price', 1.0),\n",
              " ('transmission', 0.0),\n",
              " ('mileage', 0.0),\n",
              " ('fuelType', 0.0),\n",
              " ('tax', 0.0),\n",
              " ('mpg', 0.0),\n",
              " ('engineSize', 0.0)]"
            ]
          },
          "metadata": {},
          "execution_count": 73
        }
      ]
    },
    {
      "cell_type": "code",
      "source": [
        "car_tree_cl_fl_2, car_tree_cl_fd_ = draw_feature_importances(model6, df)"
      ],
      "metadata": {
        "colab": {
          "base_uri": "https://localhost:8080/",
          "height": 383
        },
        "id": "pMaJDlI8ctli",
        "outputId": "1a8bf01b-223f-4e31-bb41-05538a1362da"
      },
      "execution_count": 75,
      "outputs": [
        {
          "output_type": "display_data",
          "data": {
            "text/plain": [
              "<Figure size 1296x360 with 1 Axes>"
            ],
            "image/png": "[encoded data removed]"
          },
          "metadata": {
            "needs_background": "light"
          }
        }
      ]
    },
    {
      "cell_type": "markdown",
      "source": [
        "## Правила дерева решений в текстовом виде"
      ],
      "metadata": {
        "id": "kjEOtsvKc5Gu"
      }
    },
    {
      "cell_type": "code",
      "source": [
        "#Глубина = 3\n",
        "from IPython.core.display import HTML\n",
        "from sklearn.tree import export_text\n",
        "tree_rules = export_text(model5, feature_names=list(df.columns))\n",
        "HTML('<pre>' + tree_rules + '</pre>')"
      ],
      "metadata": {
        "colab": {
          "base_uri": "https://localhost:8080/",
          "height": 399
        },
        "id": "aOtu6XGvdApO",
        "outputId": "88a9e7c7-940d-422b-ffd4-97a014243171"
      },
      "execution_count": 80,
      "outputs": [
        {
          "output_type": "execute_result",
          "data": {
            "text/plain": [
              "<IPython.core.display.HTML object>"
            ],
            "text/html": [
              "<pre>|--- price <= 13420.00\n",
              "|   |--- price <= 9102.50\n",
              "|   |   |--- price <= 6332.00\n",
              "|   |   |   |--- value: [4723.45]\n",
              "|   |   |--- price >  6332.00\n",
              "|   |   |   |--- value: [7947.66]\n",
              "|   |--- price >  9102.50\n",
              "|   |   |--- price <= 11174.50\n",
              "|   |   |   |--- value: [10175.26]\n",
              "|   |   |--- price >  11174.50\n",
              "|   |   |   |--- value: [12175.79]\n",
              "|--- price >  13420.00\n",
              "|   |--- price <= 20613.50\n",
              "|   |   |--- price <= 16645.00\n",
              "|   |   |   |--- value: [15005.16]\n",
              "|   |   |--- price >  16645.00\n",
              "|   |   |   |--- value: [18292.41]\n",
              "|   |--- price >  20613.50\n",
              "|   |   |--- price <= 27600.00\n",
              "|   |   |   |--- value: [23104.88]\n",
              "|   |   |--- price >  27600.00\n",
              "|   |   |   |--- value: [32111.51]\n",
              "</pre>"
            ]
          },
          "metadata": {},
          "execution_count": 80
        }
      ]
    },
    {
      "cell_type": "code",
      "source": [
        "#Глубина = 5\n",
        "from IPython.core.display import HTML\n",
        "from sklearn.tree import export_text\n",
        "tree_rules = export_text(model6, feature_names=list(df.columns))\n",
        "HTML('<pre>' + tree_rules + '</pre>')"
      ],
      "metadata": {
        "colab": {
          "base_uri": "https://localhost:8080/",
          "height": 1000
        },
        "id": "CAQ78pcwdHEr",
        "outputId": "9234b3ff-30c3-4f2c-ea9d-13aad8763005"
      },
      "execution_count": 81,
      "outputs": [
        {
          "output_type": "execute_result",
          "data": {
            "text/plain": [
              "<IPython.core.display.HTML object>"
            ],
            "text/html": [
              "<pre>|--- price <= 13420.00\n",
              "|   |--- price <= 9102.50\n",
              "|   |   |--- price <= 6332.00\n",
              "|   |   |   |--- price <= 4225.00\n",
              "|   |   |   |   |--- price <= 2844.50\n",
              "|   |   |   |   |   |--- value: [2077.84]\n",
              "|   |   |   |   |--- price >  2844.50\n",
              "|   |   |   |   |   |--- value: [3609.88]\n",
              "|   |   |   |--- price >  4225.00\n",
              "|   |   |   |   |--- price <= 5378.00\n",
              "|   |   |   |   |   |--- value: [4875.40]\n",
              "|   |   |   |   |--- price >  5378.00\n",
              "|   |   |   |   |   |--- value: [5887.78]\n",
              "|   |   |--- price >  6332.00\n",
              "|   |   |   |--- price <= 7855.00\n",
              "|   |   |   |   |--- price <= 7165.00\n",
              "|   |   |   |   |   |--- value: [6794.83]\n",
              "|   |   |   |   |--- price >  7165.00\n",
              "|   |   |   |   |   |--- value: [7529.67]\n",
              "|   |   |   |--- price >  7855.00\n",
              "|   |   |   |   |--- price <= 8544.50\n",
              "|   |   |   |   |   |--- value: [8218.68]\n",
              "|   |   |   |   |--- price >  8544.50\n",
              "|   |   |   |   |   |--- value: [8878.43]\n",
              "|   |--- price >  9102.50\n",
              "|   |   |--- price <= 11174.50\n",
              "|   |   |   |--- price <= 10184.50\n",
              "|   |   |   |   |--- price <= 9665.50\n",
              "|   |   |   |   |   |--- value: [9416.67]\n",
              "|   |   |   |   |--- price >  9665.50\n",
              "|   |   |   |   |   |--- value: [9919.75]\n",
              "|   |   |   |--- price >  10184.50\n",
              "|   |   |   |   |--- price <= 10665.00\n",
              "|   |   |   |   |   |--- value: [10423.45]\n",
              "|   |   |   |   |--- price >  10665.00\n",
              "|   |   |   |   |   |--- value: [10909.57]\n",
              "|   |   |--- price >  11174.50\n",
              "|   |   |   |--- price <= 12236.00\n",
              "|   |   |   |   |--- price <= 11684.50\n",
              "|   |   |   |   |   |--- value: [11422.22]\n",
              "|   |   |   |   |--- price >  11684.50\n",
              "|   |   |   |   |   |--- value: [11940.15]\n",
              "|   |   |   |--- price >  12236.00\n",
              "|   |   |   |   |--- price <= 12767.00\n",
              "|   |   |   |   |   |--- value: [12485.09]\n",
              "|   |   |   |   |--- price >  12767.00\n",
              "|   |   |   |   |   |--- value: [13047.74]\n",
              "|--- price >  13420.00\n",
              "|   |--- price <= 20613.50\n",
              "|   |   |--- price <= 16645.00\n",
              "|   |   |   |--- price <= 15093.00\n",
              "|   |   |   |   |--- price <= 14268.00\n",
              "|   |   |   |   |   |--- value: [13820.56]\n",
              "|   |   |   |   |--- price >  14268.00\n",
              "|   |   |   |   |   |--- value: [14717.64]\n",
              "|   |   |   |--- price >  15093.00\n",
              "|   |   |   |   |--- price <= 15855.00\n",
              "|   |   |   |   |   |--- value: [15500.90]\n",
              "|   |   |   |   |--- price >  15855.00\n",
              "|   |   |   |   |   |--- value: [16216.84]\n",
              "|   |   |--- price >  16645.00\n",
              "|   |   |   |--- price <= 18410.00\n",
              "|   |   |   |   |--- price <= 17565.00\n",
              "|   |   |   |   |   |--- value: [17152.25]\n",
              "|   |   |   |   |--- price >  17565.00\n",
              "|   |   |   |   |   |--- value: [17997.30]\n",
              "|   |   |   |--- price >  18410.00\n",
              "|   |   |   |   |--- price <= 19370.00\n",
              "|   |   |   |   |   |--- value: [18829.48]\n",
              "|   |   |   |   |--- price >  19370.00\n",
              "|   |   |   |   |   |--- value: [19905.99]\n",
              "|   |--- price >  20613.50\n",
              "|   |   |--- price <= 27600.00\n",
              "|   |   |   |--- price <= 23447.50\n",
              "|   |   |   |   |--- price <= 21821.50\n",
              "|   |   |   |   |   |--- value: [21169.03]\n",
              "|   |   |   |   |--- price >  21821.50\n",
              "|   |   |   |   |   |--- value: [22449.11]\n",
              "|   |   |   |--- price >  23447.50\n",
              "|   |   |   |   |--- price <= 25325.00\n",
              "|   |   |   |   |   |--- value: [24280.31]\n",
              "|   |   |   |   |--- price >  25325.00\n",
              "|   |   |   |   |   |--- value: [26241.49]\n",
              "|   |   |--- price >  27600.00\n",
              "|   |   |   |--- price <= 34749.00\n",
              "|   |   |   |   |--- price <= 30813.00\n",
              "|   |   |   |   |   |--- value: [29029.61]\n",
              "|   |   |   |   |--- price >  30813.00\n",
              "|   |   |   |   |   |--- value: [32593.45]\n",
              "|   |   |   |--- price >  34749.00\n",
              "|   |   |   |   |--- price <= 39239.50\n",
              "|   |   |   |   |   |--- value: [37110.27]\n",
              "|   |   |   |   |--- price >  39239.50\n",
              "|   |   |   |   |   |--- value: [41913.11]\n",
              "</pre>"
            ]
          },
          "metadata": {},
          "execution_count": 81
        }
      ]
    }
  ]
}